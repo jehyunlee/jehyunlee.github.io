{
 "cells": [
  {
   "cell_type": "code",
   "execution_count": null,
   "metadata": {},
   "outputs": [],
   "source": [
    "import matplotlib.pyplot as plt\n"
   ]
  },
  {
   "cell_type": "code",
   "execution_count": null,
   "metadata": {},
   "outputs": [],
   "source": [
    "# Updating the histogram with visible spines, no grid, and tick direction outwards\n",
    "\n",
    "plt.figure(figsize=(4, 3))\n",
    "\n",
    "# Plotting the histogram\n",
    "plt.hist(df_penguins['body_mass_g'].dropna(), bins=30, color='orange', edgecolor='black', linewidth=0.5)\n",
    "\n",
    "# Making all spines visible\n",
    "plt.gca().spines['top'].set_visible(True)\n",
    "plt.gca().spines['right'].set_visible(True)\n",
    "plt.gca().spines['bottom'].set_visible(True)\n",
    "plt.gca().spines['left'].set_visible(True)\n",
    "\n",
    "# Hiding the grid\n",
    "plt.grid(False)\n",
    "\n",
    "# Setting tick direction to out\n",
    "plt.tick_params(direction='out')\n",
    "\n",
    "plt.xlabel('Body Mass (g)')\n",
    "plt.ylabel('Frequency')\n",
    "plt.title('펭귄 체중 분포')\n",
    "\n",
    "plt.show()\n"
   ]
  }
 ],
 "metadata": {
  "kernelspec": {
   "display_name": "python3.12",
   "language": "python",
   "name": "python3"
  },
  "language_info": {
   "name": "python",
   "version": "3.12.1"
  }
 },
 "nbformat": 4,
 "nbformat_minor": 2
}
