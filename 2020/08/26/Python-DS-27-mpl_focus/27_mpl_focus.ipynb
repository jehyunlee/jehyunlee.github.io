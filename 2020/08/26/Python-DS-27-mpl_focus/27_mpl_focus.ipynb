{
 "cells": [
  {
   "cell_type": "code",
   "execution_count": 1,
   "metadata": {},
   "outputs": [],
   "source": [
    "%matplotlib inline\n",
    "import numpy as np\n",
    "import pandas as pd\n",
    "import matplotlib.pyplot as plt"
   ]
  },
  {
   "cell_type": "markdown",
   "metadata": {},
   "source": [
    "### 1. Data"
   ]
  },
  {
   "cell_type": "code",
   "execution_count": 2,
   "metadata": {},
   "outputs": [
    {
     "name": "stderr",
     "output_type": "stream",
     "text": [
      "/opt/conda/lib/python3.7/site-packages/statsmodels/tools/_testing.py:19: FutureWarning: pandas.util.testing is deprecated. Use the functions in the public API at pandas.testing instead.\n",
      "  import pandas.util.testing as tm\n"
     ]
    },
    {
     "name": "stdout",
     "output_type": "stream",
     "text": [
      "['anagrams', 'anscombe', 'attention', 'brain_networks', 'car_crashes', 'diamonds', 'dots', 'exercise', 'flights', 'fmri', 'gammas', 'geyser', 'iris', 'mpg', 'penguins', 'planets', 'tips', 'titanic']\n"
     ]
    },
    {
     "name": "stderr",
     "output_type": "stream",
     "text": [
      "/opt/conda/lib/python3.7/site-packages/seaborn/utils.py:376: UserWarning: No parser was explicitly specified, so I'm using the best available HTML parser for this system (\"lxml\"). This usually isn't a problem, but if you run this code on another system, or in a different virtual environment, it may use a different parser and behave differently.\n",
      "\n",
      "The code that caused this warning is on line 376 of the file /opt/conda/lib/python3.7/site-packages/seaborn/utils.py. To get rid of this warning, pass the additional argument 'features=\"lxml\"' to the BeautifulSoup constructor.\n",
      "\n",
      "  gh_list = BeautifulSoup(http)\n"
     ]
    }
   ],
   "source": [
    "import seaborn as sns\n",
    "\n",
    "print(sns.get_dataset_names())"
   ]
  },
  {
   "cell_type": "markdown",
   "metadata": {},
   "source": [
    "### 2. Bar plot"
   ]
  },
  {
   "cell_type": "code",
   "execution_count": 3,
   "metadata": {},
   "outputs": [
    {
     "data": {
      "text/html": [
       "<div>\n",
       "<style scoped>\n",
       "    .dataframe tbody tr th:only-of-type {\n",
       "        vertical-align: middle;\n",
       "    }\n",
       "\n",
       "    .dataframe tbody tr th {\n",
       "        vertical-align: top;\n",
       "    }\n",
       "\n",
       "    .dataframe thead th {\n",
       "        text-align: right;\n",
       "    }\n",
       "</style>\n",
       "<table border=\"1\" class=\"dataframe\">\n",
       "  <thead>\n",
       "    <tr style=\"text-align: right;\">\n",
       "      <th></th>\n",
       "      <th>total_bill</th>\n",
       "      <th>tip</th>\n",
       "      <th>sex</th>\n",
       "      <th>smoker</th>\n",
       "      <th>day</th>\n",
       "      <th>time</th>\n",
       "      <th>size</th>\n",
       "    </tr>\n",
       "  </thead>\n",
       "  <tbody>\n",
       "    <tr>\n",
       "      <th>0</th>\n",
       "      <td>16.99</td>\n",
       "      <td>1.01</td>\n",
       "      <td>Female</td>\n",
       "      <td>No</td>\n",
       "      <td>Sun</td>\n",
       "      <td>Dinner</td>\n",
       "      <td>2</td>\n",
       "    </tr>\n",
       "    <tr>\n",
       "      <th>1</th>\n",
       "      <td>10.34</td>\n",
       "      <td>1.66</td>\n",
       "      <td>Male</td>\n",
       "      <td>No</td>\n",
       "      <td>Sun</td>\n",
       "      <td>Dinner</td>\n",
       "      <td>3</td>\n",
       "    </tr>\n",
       "    <tr>\n",
       "      <th>2</th>\n",
       "      <td>21.01</td>\n",
       "      <td>3.50</td>\n",
       "      <td>Male</td>\n",
       "      <td>No</td>\n",
       "      <td>Sun</td>\n",
       "      <td>Dinner</td>\n",
       "      <td>3</td>\n",
       "    </tr>\n",
       "    <tr>\n",
       "      <th>3</th>\n",
       "      <td>23.68</td>\n",
       "      <td>3.31</td>\n",
       "      <td>Male</td>\n",
       "      <td>No</td>\n",
       "      <td>Sun</td>\n",
       "      <td>Dinner</td>\n",
       "      <td>2</td>\n",
       "    </tr>\n",
       "    <tr>\n",
       "      <th>4</th>\n",
       "      <td>24.59</td>\n",
       "      <td>3.61</td>\n",
       "      <td>Female</td>\n",
       "      <td>No</td>\n",
       "      <td>Sun</td>\n",
       "      <td>Dinner</td>\n",
       "      <td>4</td>\n",
       "    </tr>\n",
       "  </tbody>\n",
       "</table>\n",
       "</div>"
      ],
      "text/plain": [
       "   total_bill   tip     sex smoker  day    time  size\n",
       "0       16.99  1.01  Female     No  Sun  Dinner     2\n",
       "1       10.34  1.66    Male     No  Sun  Dinner     3\n",
       "2       21.01  3.50    Male     No  Sun  Dinner     3\n",
       "3       23.68  3.31    Male     No  Sun  Dinner     2\n",
       "4       24.59  3.61  Female     No  Sun  Dinner     4"
      ]
     },
     "execution_count": 3,
     "metadata": {},
     "output_type": "execute_result"
    }
   ],
   "source": [
    "tips = sns.load_dataset(\"tips\")\n",
    "tips.head()"
   ]
  },
  {
   "cell_type": "code",
   "execution_count": 4,
   "metadata": {},
   "outputs": [
    {
     "data": {
      "text/html": [
       "<div>\n",
       "<style scoped>\n",
       "    .dataframe tbody tr th:only-of-type {\n",
       "        vertical-align: middle;\n",
       "    }\n",
       "\n",
       "    .dataframe tbody tr th {\n",
       "        vertical-align: top;\n",
       "    }\n",
       "\n",
       "    .dataframe thead th {\n",
       "        text-align: right;\n",
       "    }\n",
       "</style>\n",
       "<table border=\"1\" class=\"dataframe\">\n",
       "  <thead>\n",
       "    <tr style=\"text-align: right;\">\n",
       "      <th></th>\n",
       "      <th>day</th>\n",
       "      <th>total_bill</th>\n",
       "      <th>tip</th>\n",
       "      <th>size</th>\n",
       "    </tr>\n",
       "  </thead>\n",
       "  <tbody>\n",
       "    <tr>\n",
       "      <th>0</th>\n",
       "      <td>Thur</td>\n",
       "      <td>17.682742</td>\n",
       "      <td>2.771452</td>\n",
       "      <td>2.451613</td>\n",
       "    </tr>\n",
       "    <tr>\n",
       "      <th>1</th>\n",
       "      <td>Fri</td>\n",
       "      <td>17.151579</td>\n",
       "      <td>2.734737</td>\n",
       "      <td>2.105263</td>\n",
       "    </tr>\n",
       "    <tr>\n",
       "      <th>2</th>\n",
       "      <td>Sat</td>\n",
       "      <td>20.441379</td>\n",
       "      <td>2.993103</td>\n",
       "      <td>2.517241</td>\n",
       "    </tr>\n",
       "    <tr>\n",
       "      <th>3</th>\n",
       "      <td>Sun</td>\n",
       "      <td>21.410000</td>\n",
       "      <td>3.255132</td>\n",
       "      <td>2.842105</td>\n",
       "    </tr>\n",
       "  </tbody>\n",
       "</table>\n",
       "</div>"
      ],
      "text/plain": [
       "    day  total_bill       tip      size\n",
       "0  Thur   17.682742  2.771452  2.451613\n",
       "1   Fri   17.151579  2.734737  2.105263\n",
       "2   Sat   20.441379  2.993103  2.517241\n",
       "3   Sun   21.410000  3.255132  2.842105"
      ]
     },
     "execution_count": 4,
     "metadata": {},
     "output_type": "execute_result"
    }
   ],
   "source": [
    "tips_day = tips.groupby(\"day\").mean().reset_index()\n",
    "tips_day"
   ]
  },
  {
   "cell_type": "code",
   "execution_count": 5,
   "metadata": {},
   "outputs": [
    {
     "data": {
      "image/png": "[encoded data removed]",
      "text/plain": [
       "<Figure size 432x288 with 1 Axes>"
      ]
     },
     "metadata": {
      "needs_background": "light"
     },
     "output_type": "display_data"
    }
   ],
   "source": [
    "fig, ax = plt.subplots()\n",
    "ax.bar(tips_day[\"day\"], tips_day[\"tip\"])\n",
    "ax.set_title(\"tip (mean)\", fontsize=16, pad=12)\n",
    "\n",
    "plt.show()"
   ]
  },
  {
   "cell_type": "code",
   "execution_count": 6,
   "metadata": {},
   "outputs": [
    {
     "data": {
      "image/png": "[encoded data removed]",
      "text/plain": [
       "<Figure size 432x288 with 1 Axes>"
      ]
     },
     "metadata": {
      "needs_background": "light"
     },
     "output_type": "display_data"
    }
   ],
   "source": [
    "fig, ax = plt.subplots()\n",
    "ax.bar(tips_day[\"day\"], tips_day[\"tip\"], color=\"lightgray\")\n",
    "ax.set_title(\"tip (mean)\", fontsize=16, pad=12)\n",
    "\n",
    "plt.show()"
   ]
  },
  {
   "cell_type": "code",
   "execution_count": 7,
   "metadata": {},
   "outputs": [
    {
     "data": {
      "text/plain": [
       "[<matplotlib.patches.Rectangle at 0x7f3e597f0150>,\n",
       " <matplotlib.patches.Rectangle at 0x7f3e59889d10>,\n",
       " <matplotlib.patches.Rectangle at 0x7f3e597f0850>,\n",
       " <matplotlib.patches.Rectangle at 0x7f3e597f0bd0>]"
      ]
     },
     "execution_count": 7,
     "metadata": {},
     "output_type": "execute_result"
    }
   ],
   "source": [
    "ax.patches"
   ]
  },
  {
   "cell_type": "code",
   "execution_count": 8,
   "metadata": {},
   "outputs": [
    {
     "name": "stdout",
     "output_type": "stream",
     "text": [
      "height of patch[0] = 2.771451612903226\n",
      "height of patch[1] = 2.734736842105263\n",
      "height of patch[2] = 2.993103448275862\n",
      "height of patch[3] = 3.255131578947369\n"
     ]
    }
   ],
   "source": [
    "# source code for matplotlib.patches\n",
    "# https://matplotlib.org/3.3.1/_modules/matplotlib/patches.html\n",
    "\n",
    "for i in range(len(ax.patches)):\n",
    "    print(f\"height of patch[{i}] = {ax.patches[i].get_height()}\")"
   ]
  },
  {
   "cell_type": "code",
   "execution_count": 9,
   "metadata": {},
   "outputs": [
    {
     "name": "stdout",
     "output_type": "stream",
     "text": [
      "facecolor of patch[0] = (0.8274509803921568, 0.8274509803921568, 0.8274509803921568, 1.0)\n",
      "edgecolor of patch[0] = (0.0, 0.0, 0.0, 0.0)\n",
      "\n",
      "facecolor of patch[1] = (0.8274509803921568, 0.8274509803921568, 0.8274509803921568, 1.0)\n",
      "edgecolor of patch[1] = (0.0, 0.0, 0.0, 0.0)\n",
      "\n",
      "facecolor of patch[2] = (0.8274509803921568, 0.8274509803921568, 0.8274509803921568, 1.0)\n",
      "edgecolor of patch[2] = (0.0, 0.0, 0.0, 0.0)\n",
      "\n",
      "facecolor of patch[3] = (0.8274509803921568, 0.8274509803921568, 0.8274509803921568, 1.0)\n",
      "edgecolor of patch[3] = (0.0, 0.0, 0.0, 0.0)\n",
      "\n"
     ]
    }
   ],
   "source": [
    "for i in range(len(ax.patches)):\n",
    "    print(f\"facecolor of patch[{i}] = {ax.patches[i].get_facecolor()}\")\n",
    "    print(f\"edgecolor of patch[{i}] = {ax.patches[i].get_edgecolor()}\\n\")"
   ]
  },
  {
   "cell_type": "code",
   "execution_count": 10,
   "metadata": {},
   "outputs": [
    {
     "data": {
      "image/png": "[encoded data removed]",
      "text/plain": [
       "<Figure size 432x288 with 1 Axes>"
      ]
     },
     "metadata": {
      "needs_background": "light"
     },
     "output_type": "display_data"
    }
   ],
   "source": [
    "fig, ax = plt.subplots()\n",
    "ax.bar(tips_day[\"day\"], tips_day[\"tip\"], color=\"lightgray\")\n",
    "ax.set_title(\"tip (mean)\", fontsize=16, pad=12)\n",
    "\n",
    "# Sunday\n",
    "ax.patches[3].set_facecolor(\"darkred\")\n",
    "ax.patches[3].set_edgecolor(\"black\")\n",
    "\n",
    "plt.show()"
   ]
  },
  {
   "cell_type": "code",
   "execution_count": 11,
   "metadata": {},
   "outputs": [
    {
     "data": {
      "image/png": "[encoded data removed]",
      "text/plain": [
       "<Figure size 432x288 with 1 Axes>"
      ]
     },
     "metadata": {
      "needs_background": "light"
     },
     "output_type": "display_data"
    }
   ],
   "source": [
    "fig, ax = plt.subplots()\n",
    "ax.bar(tips_day[\"day\"], tips_day[\"tip\"], color=\"lightgray\")\n",
    "ax.set_title(\"tip (mean)\", fontsize=16, pad=12)\n",
    "\n",
    "# Values\n",
    "for i in range(4):\n",
    "    ax.text(i, tips_day[\"tip\"].loc[i], tips_day[\"tip\"].loc[i])\n",
    "\n",
    "# Sunday\n",
    "ax.patches[3].set_facecolor(\"darkred\")\n",
    "ax.patches[3].set_edgecolor(\"black\")\n",
    "\n",
    "plt.show()"
   ]
  },
  {
   "cell_type": "code",
   "execution_count": 12,
   "metadata": {},
   "outputs": [
    {
     "data": {
      "image/png": "[encoded data removed]",
      "text/plain": [
       "<Figure size 432x288 with 1 Axes>"
      ]
     },
     "metadata": {
      "needs_background": "light"
     },
     "output_type": "display_data"
    }
   ],
   "source": [
    "fig, ax = plt.subplots()\n",
    "ax.bar(tips_day[\"day\"], tips_day[\"tip\"], color=\"lightgray\")\n",
    "ax.set_title(\"tip (mean)\", fontsize=16, pad=12)\n",
    "\n",
    "# Values\n",
    "h_pad = 0.1\n",
    "for i in range(4):\n",
    "    fontweight = \"normal\"\n",
    "    color = \"k\"\n",
    "    if i == 3:\n",
    "        fontweight = \"bold\"\n",
    "        color = \"darkred\"\n",
    "    \n",
    "    ax.text(i, tips_day[\"tip\"].loc[i] + h_pad, f\"{tips_day['tip'].loc[i]:0.2f}\", \n",
    "            horizontalalignment='center', fontsize=12, fontweight=fontweight, color=color)\n",
    "\n",
    "# Sunday\n",
    "ax.patches[3].set_facecolor(\"darkred\")\n",
    "ax.patches[3].set_edgecolor(\"black\")\n",
    "\n",
    "plt.show()"
   ]
  },
  {
   "cell_type": "code",
   "execution_count": 13,
   "metadata": {},
   "outputs": [
    {
     "data": {
      "image/png": "[encoded data removed]",
      "text/plain": [
       "<Figure size 432x288 with 1 Axes>"
      ]
     },
     "metadata": {
      "needs_background": "light"
     },
     "output_type": "display_data"
    }
   ],
   "source": [
    "fig, ax = plt.subplots()\n",
    "ax.bar(tips_day[\"day\"], tips_day[\"tip\"], color=\"lightgray\")\n",
    "ax.set_title(\"tip (mean)\", fontsize=16, pad=12)\n",
    "\n",
    "# Values\n",
    "h_pad = 0.1\n",
    "for i in range(4):\n",
    "    fontweight = \"normal\"\n",
    "    color = \"k\"\n",
    "    if i == 3:\n",
    "        fontweight = \"bold\"\n",
    "        color = \"darkred\"\n",
    "    \n",
    "    ax.text(i, tips_day[\"tip\"].loc[i] + h_pad, f\"{tips_day['tip'].loc[i]:0.2f}\", \n",
    "            horizontalalignment='center', fontsize=12, fontweight=fontweight, color=color)\n",
    "\n",
    "# Sunday\n",
    "ax.patches[3].set_facecolor(\"darkred\")\n",
    "ax.patches[3].set_edgecolor(\"black\")\n",
    "\n",
    "# set_range\n",
    "ax.set_ylim(0, 4)\n",
    "\n",
    "plt.show()"
   ]
  },
  {
   "cell_type": "markdown",
   "metadata": {},
   "source": [
    "### 3. Scatter Plot"
   ]
  },
  {
   "cell_type": "code",
   "execution_count": 16,
   "metadata": {},
   "outputs": [
    {
     "data": {
      "text/html": [
       "<div>\n",
       "<style scoped>\n",
       "    .dataframe tbody tr th:only-of-type {\n",
       "        vertical-align: middle;\n",
       "    }\n",
       "\n",
       "    .dataframe tbody tr th {\n",
       "        vertical-align: top;\n",
       "    }\n",
       "\n",
       "    .dataframe thead th {\n",
       "        text-align: right;\n",
       "    }\n",
       "</style>\n",
       "<table border=\"1\" class=\"dataframe\">\n",
       "  <thead>\n",
       "    <tr style=\"text-align: right;\">\n",
       "      <th></th>\n",
       "      <th>species</th>\n",
       "      <th>island</th>\n",
       "      <th>bill_length_mm</th>\n",
       "      <th>bill_depth_mm</th>\n",
       "      <th>flipper_length_mm</th>\n",
       "      <th>body_mass_g</th>\n",
       "      <th>sex</th>\n",
       "    </tr>\n",
       "  </thead>\n",
       "  <tbody>\n",
       "    <tr>\n",
       "      <th>0</th>\n",
       "      <td>Adelie</td>\n",
       "      <td>Torgersen</td>\n",
       "      <td>39.1</td>\n",
       "      <td>18.7</td>\n",
       "      <td>181.0</td>\n",
       "      <td>3750.0</td>\n",
       "      <td>MALE</td>\n",
       "    </tr>\n",
       "    <tr>\n",
       "      <th>1</th>\n",
       "      <td>Adelie</td>\n",
       "      <td>Torgersen</td>\n",
       "      <td>39.5</td>\n",
       "      <td>17.4</td>\n",
       "      <td>186.0</td>\n",
       "      <td>3800.0</td>\n",
       "      <td>FEMALE</td>\n",
       "    </tr>\n",
       "    <tr>\n",
       "      <th>2</th>\n",
       "      <td>Adelie</td>\n",
       "      <td>Torgersen</td>\n",
       "      <td>40.3</td>\n",
       "      <td>18.0</td>\n",
       "      <td>195.0</td>\n",
       "      <td>3250.0</td>\n",
       "      <td>FEMALE</td>\n",
       "    </tr>\n",
       "    <tr>\n",
       "      <th>3</th>\n",
       "      <td>Adelie</td>\n",
       "      <td>Torgersen</td>\n",
       "      <td>NaN</td>\n",
       "      <td>NaN</td>\n",
       "      <td>NaN</td>\n",
       "      <td>NaN</td>\n",
       "      <td>NaN</td>\n",
       "    </tr>\n",
       "    <tr>\n",
       "      <th>4</th>\n",
       "      <td>Adelie</td>\n",
       "      <td>Torgersen</td>\n",
       "      <td>36.7</td>\n",
       "      <td>19.3</td>\n",
       "      <td>193.0</td>\n",
       "      <td>3450.0</td>\n",
       "      <td>FEMALE</td>\n",
       "    </tr>\n",
       "  </tbody>\n",
       "</table>\n",
       "</div>"
      ],
      "text/plain": [
       "  species     island  bill_length_mm  bill_depth_mm  flipper_length_mm  \\\n",
       "0  Adelie  Torgersen            39.1           18.7              181.0   \n",
       "1  Adelie  Torgersen            39.5           17.4              186.0   \n",
       "2  Adelie  Torgersen            40.3           18.0              195.0   \n",
       "3  Adelie  Torgersen             NaN            NaN                NaN   \n",
       "4  Adelie  Torgersen            36.7           19.3              193.0   \n",
       "\n",
       "   body_mass_g     sex  \n",
       "0       3750.0    MALE  \n",
       "1       3800.0  FEMALE  \n",
       "2       3250.0  FEMALE  \n",
       "3          NaN     NaN  \n",
       "4       3450.0  FEMALE  "
      ]
     },
     "execution_count": 16,
     "metadata": {},
     "output_type": "execute_result"
    }
   ],
   "source": [
    "penguins = sns.load_dataset(\"penguins\")\n",
    "penguins.head()"
   ]
  },
  {
   "cell_type": "code",
   "execution_count": 17,
   "metadata": {},
   "outputs": [
    {
     "data": {
      "text/plain": [
       "Biscoe       168\n",
       "Dream        124\n",
       "Torgersen     52\n",
       "Name: island, dtype: int64"
      ]
     },
     "execution_count": 17,
     "metadata": {},
     "output_type": "execute_result"
    }
   ],
   "source": [
    "penguins[\"island\"].value_counts()"
   ]
  },
  {
   "cell_type": "code",
   "execution_count": 34,
   "metadata": {},
   "outputs": [
    {
     "data": {
      "image/png": "[encoded data removed]",
      "text/plain": [
       "<Figure size 732.125x216 with 3 Axes>"
      ]
     },
     "metadata": {
      "needs_background": "light"
     },
     "output_type": "display_data"
    }
   ],
   "source": [
    "g = sns.FacetGrid(penguins, col=\"island\", hue=\"species\", palette=\"pastel\")\n",
    "g.map(plt.scatter, \"flipper_length_mm\", \"body_mass_g\", )\n",
    "g.add_legend()\n",
    "plt.show()"
   ]
  },
  {
   "cell_type": "code",
   "execution_count": 36,
   "metadata": {},
   "outputs": [
    {
     "data": {
      "text/html": [
       "<div>\n",
       "<style scoped>\n",
       "    .dataframe tbody tr th:only-of-type {\n",
       "        vertical-align: middle;\n",
       "    }\n",
       "\n",
       "    .dataframe tbody tr th {\n",
       "        vertical-align: top;\n",
       "    }\n",
       "\n",
       "    .dataframe thead th {\n",
       "        text-align: right;\n",
       "    }\n",
       "</style>\n",
       "<table border=\"1\" class=\"dataframe\">\n",
       "  <thead>\n",
       "    <tr style=\"text-align: right;\">\n",
       "      <th></th>\n",
       "      <th></th>\n",
       "      <th>bill_length_mm</th>\n",
       "      <th>bill_depth_mm</th>\n",
       "      <th>flipper_length_mm</th>\n",
       "      <th>body_mass_g</th>\n",
       "    </tr>\n",
       "    <tr>\n",
       "      <th>island</th>\n",
       "      <th>species</th>\n",
       "      <th></th>\n",
       "      <th></th>\n",
       "      <th></th>\n",
       "      <th></th>\n",
       "    </tr>\n",
       "  </thead>\n",
       "  <tbody>\n",
       "    <tr>\n",
       "      <th rowspan=\"2\" valign=\"top\">Biscoe</th>\n",
       "      <th>Adelie</th>\n",
       "      <td>38.975000</td>\n",
       "      <td>18.370455</td>\n",
       "      <td>188.795455</td>\n",
       "      <td>3709.659091</td>\n",
       "    </tr>\n",
       "    <tr>\n",
       "      <th>Gentoo</th>\n",
       "      <td>47.504878</td>\n",
       "      <td>14.982114</td>\n",
       "      <td>217.186992</td>\n",
       "      <td>5076.016260</td>\n",
       "    </tr>\n",
       "    <tr>\n",
       "      <th rowspan=\"2\" valign=\"top\">Dream</th>\n",
       "      <th>Adelie</th>\n",
       "      <td>38.501786</td>\n",
       "      <td>18.251786</td>\n",
       "      <td>189.732143</td>\n",
       "      <td>3688.392857</td>\n",
       "    </tr>\n",
       "    <tr>\n",
       "      <th>Chinstrap</th>\n",
       "      <td>48.833824</td>\n",
       "      <td>18.420588</td>\n",
       "      <td>195.823529</td>\n",
       "      <td>3733.088235</td>\n",
       "    </tr>\n",
       "    <tr>\n",
       "      <th>Torgersen</th>\n",
       "      <th>Adelie</th>\n",
       "      <td>38.950980</td>\n",
       "      <td>18.429412</td>\n",
       "      <td>191.196078</td>\n",
       "      <td>3706.372549</td>\n",
       "    </tr>\n",
       "  </tbody>\n",
       "</table>\n",
       "</div>"
      ],
      "text/plain": [
       "                     bill_length_mm  bill_depth_mm  flipper_length_mm  \\\n",
       "island    species                                                       \n",
       "Biscoe    Adelie          38.975000      18.370455         188.795455   \n",
       "          Gentoo          47.504878      14.982114         217.186992   \n",
       "Dream     Adelie          38.501786      18.251786         189.732143   \n",
       "          Chinstrap       48.833824      18.420588         195.823529   \n",
       "Torgersen Adelie          38.950980      18.429412         191.196078   \n",
       "\n",
       "                     body_mass_g  \n",
       "island    species                 \n",
       "Biscoe    Adelie     3709.659091  \n",
       "          Gentoo     5076.016260  \n",
       "Dream     Adelie     3688.392857  \n",
       "          Chinstrap  3733.088235  \n",
       "Torgersen Adelie     3706.372549  "
      ]
     },
     "execution_count": 36,
     "metadata": {},
     "output_type": "execute_result"
    }
   ],
   "source": [
    "penguins_is = penguins.groupby([\"island\", \"species\"]).mean()\n",
    "penguins_is"
   ]
  },
  {
   "cell_type": "code",
   "execution_count": 44,
   "metadata": {},
   "outputs": [
    {
     "data": {
      "image/png": "[encoded data removed]",
      "text/plain": [
       "<Figure size 732.125x216 with 3 Axes>"
      ]
     },
     "metadata": {
      "needs_background": "light"
     },
     "output_type": "display_data"
    }
   ],
   "source": [
    "g = sns.FacetGrid(penguins, col=\"island\", hue=\"species\", palette=\"pastel\")\n",
    "g.map(plt.scatter, \"flipper_length_mm\", \"body_mass_g\", )\n",
    "g.add_legend()\n",
    "\n",
    "# add means\n",
    "\n",
    "g.axes[0, 0].scatter(penguins_is[\"flipper_length_mm\"].loc[(\"Torgersen\", \"Adelie\")],\n",
    "                     penguins_is[\"body_mass_g\"].loc[(\"Torgersen\", \"Adelie\")],\n",
    "                     s=100, c=\"C0\", ec=\"k\"\n",
    "                    )\n",
    "g.axes[0, 1].scatter(penguins_is[\"flipper_length_mm\"].loc[(\"Biscoe\", \"Adelie\")],\n",
    "                     penguins_is[\"body_mass_g\"].loc[(\"Biscoe\", \"Adelie\")],\n",
    "                     s=100, c=\"C0\", ec=\"k\"\n",
    "                    )\n",
    "g.axes[0, 1].scatter(penguins_is[\"flipper_length_mm\"].loc[(\"Biscoe\", \"Gentoo\")],\n",
    "                     penguins_is[\"body_mass_g\"].loc[(\"Biscoe\", \"Gentoo\")],\n",
    "                     s=100, c=\"C2\", ec=\"k\"\n",
    "                    )\n",
    "g.axes[0, 2].scatter(penguins_is[\"flipper_length_mm\"].loc[(\"Dream\", \"Adelie\")],\n",
    "                     penguins_is[\"body_mass_g\"].loc[(\"Dream\", \"Adelie\")],\n",
    "                     s=100, c=\"C0\", ec=\"k\"\n",
    "                    )\n",
    "g.axes[0, 2].scatter(penguins_is[\"flipper_length_mm\"].loc[(\"Dream\", \"Chinstrap\")],\n",
    "                     penguins_is[\"body_mass_g\"].loc[(\"Dream\", \"Chinstrap\")],\n",
    "                     s=100, c=\"C1\", ec=\"k\"\n",
    "                    )\n",
    "\n",
    "plt.show()"
   ]
  },
  {
   "cell_type": "code",
   "execution_count": null,
   "metadata": {},
   "outputs": [],
   "source": []
  }
 ],
 "metadata": {
  "kernelspec": {
   "display_name": "Python 3",
   "language": "python",
   "name": "python3"
  },
  "language_info": {
   "codemirror_mode": {
    "name": "ipython",
    "version": 3
   },
   "file_extension": ".py",
   "mimetype": "text/x-python",
   "name": "python",
   "nbconvert_exporter": "python",
   "pygments_lexer": "ipython3",
   "version": "3.7.4"
  }
 },
 "nbformat": 4,
 "nbformat_minor": 4
}
