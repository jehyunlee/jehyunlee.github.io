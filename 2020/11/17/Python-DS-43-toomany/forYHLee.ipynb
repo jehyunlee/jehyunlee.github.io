{
 "cells": [
  {
   "cell_type": "code",
   "execution_count": 2,
   "metadata": {},
   "outputs": [],
   "source": [
    "%matplotlib inline\n",
    "\n",
    "import os\n",
    "import matplotlib.pyplot as plt\n",
    "import seaborn as sns\n",
    "import pandas as pd\n",
    "import numpy as np"
   ]
  },
  {
   "cell_type": "markdown",
   "metadata": {},
   "source": [
    "### Summary"
   ]
  },
  {
   "cell_type": "raw",
   "metadata": {},
   "source": [
    "# Ltime2 : DatetimeIndex\n",
    "\n",
    "def plot(Ltime2, Temperature): \n",
    "\n",
    "    # 1. Converting DatetimeIndex to DataFrame\n",
    "    #- actually a bypass of data handling, to make it easy to be controlled\n",
    "    Ltime2 = pd.DataFrame(Ltime2)\n",
    "    Temperature = pd.DataFrame(Temperature)\n",
    "\n",
    "    # 2. Time Standardization (min_day)\n",
    "    #- represent HH:MM as mimute in a day\n",
    "    #- the \"next day\" data has to be treated properly\n",
    "    def min_day(time):\n",
    "        \"\"\"\n",
    "        input\n",
    "        > time : (str) represented as HH:MM \n",
    "\n",
    "        output\n",
    "        > minday : (min) order of minute of the day.\n",
    "\n",
    "        \"\"\"\n",
    "        HH, MM = time.split(\":\")\n",
    "\n",
    "        return int(HH)*60 + int(MM)\n",
    "\n",
    "    min_day_s0 = Ltime2[0].apply(min_day)\n",
    "    min_day_s1 = min_day_s0.shift(1)\n",
    "\n",
    "    if np.where(min_day_s0 - min_day_s1 < 0)[0].any():\n",
    "        next_day_flag = 1\n",
    "        next_day_start = np.where(min_day_s0 - min_day_s1 < 0)[0][0]\n",
    "    \n",
    "    else:\n",
    "        next_day_flag = 0\n",
    "\n",
    "    if next_day_flag:\n",
    "        min_day_s0[next_day_start:] = min_day_s0[next_day_start:] + 1440\n",
    "\n",
    "    Ltime2[\"min_day\"] = min_day_s0\n",
    "\n",
    "    # 3. Converting \"min-day\" to \"HH:MM\" format.\n",
    "    #- for format transformation of xticklabels,\n",
    "    #- regarding the \"next day\" data.\n",
    "    def min_HHMM(mins):\n",
    "        HH = np.where(mins < 1440, mins//60, mins//60-24)\n",
    "        MM = mins % 60    \n",
    "        HHMM = list(zip(HH, MM))\n",
    "        return [f\"{int(hh):02d}:{int(mm):02d}\" for (hh, mm) in HHMM]\n",
    "\n",
    "    # 4. visualization\n",
    "    fig, ax = plt.subplots()\n",
    "    ax.set_xlabel(\"Local Time\")\n",
    "    ax.set_ylabel(\"P1 (2) / P1 (4) Temperature (K)\")\n",
    "\n",
    "    # plot including the \"fake\" data to expand x limit, but invisible by size=0\n",
    "    ax.scatter(Ltime2[\"min_day\"], Temperature[0], s=0) \n",
    "    # plot only \"real\" data\n",
    "    ax.scatter(Ltime2[\"min_day\"].iloc[:-1], Temperature[0].iloc[:-1], s=30)\n",
    "\n",
    "    # set range of x axis from (16:40 ~ 07:40)\n",
    "    ax.set_xlim(1000, 1900)\n",
    "    \n",
    "    # actually does nothing.\n",
    "    # these lines are added to prevent Warning messages when set_xticklabels() are used without set_xticks()\n",
    "    xticks = ax.get_xticks()\n",
    "    ax.set_xticks(xticks)\n",
    "\n",
    "    # convert xticklabels from min_day to HH:MM format\n",
    "    xticklabels = min_HHMM(xticks)\n",
    "    ax.set_xticklabels(xticklabels)\n",
    "\n",
    "    ax.grid(True)\n",
    "    fig.autofmt_xdate()\n",
    "\n",
    "    return plt.show()"
   ]
  },
  {
   "cell_type": "code",
   "execution_count": 3,
   "metadata": {},
   "outputs": [],
   "source": [
    "Ltime2 = pd.read_pickle(\"./df_Ltime2.pkl\")\n",
    "Temperature = pd.read_pickle(\"./df_Temperature.pkl\")"
   ]
  },
  {
   "cell_type": "code",
   "execution_count": 4,
   "metadata": {},
   "outputs": [
    {
     "data": {
      "text/html": [
       "<div>\n",
       "<style scoped>\n",
       "    .dataframe tbody tr th:only-of-type {\n",
       "        vertical-align: middle;\n",
       "    }\n",
       "\n",
       "    .dataframe tbody tr th {\n",
       "        vertical-align: top;\n",
       "    }\n",
       "\n",
       "    .dataframe thead th {\n",
       "        text-align: right;\n",
       "    }\n",
       "</style>\n",
       "<table border=\"1\" class=\"dataframe\">\n",
       "  <thead>\n",
       "    <tr style=\"text-align: right;\">\n",
       "      <th></th>\n",
       "      <th>0</th>\n",
       "    </tr>\n",
       "  </thead>\n",
       "  <tbody>\n",
       "    <tr>\n",
       "      <th>0</th>\n",
       "      <td>18:48</td>\n",
       "    </tr>\n",
       "    <tr>\n",
       "      <th>1</th>\n",
       "      <td>20:17</td>\n",
       "    </tr>\n",
       "    <tr>\n",
       "      <th>2</th>\n",
       "      <td>21:37</td>\n",
       "    </tr>\n",
       "    <tr>\n",
       "      <th>3</th>\n",
       "      <td>23:14</td>\n",
       "    </tr>\n",
       "    <tr>\n",
       "      <th>4</th>\n",
       "      <td>01:00</td>\n",
       "    </tr>\n",
       "  </tbody>\n",
       "</table>\n",
       "</div>"
      ],
      "text/plain": [
       "       0\n",
       "0  18:48\n",
       "1  20:17\n",
       "2  21:37\n",
       "3  23:14\n",
       "4  01:00"
      ]
     },
     "execution_count": 4,
     "metadata": {},
     "output_type": "execute_result"
    }
   ],
   "source": [
    "Ltime2"
   ]
  },
  {
   "cell_type": "code",
   "execution_count": 5,
   "metadata": {},
   "outputs": [],
   "source": [
    "def min_day(time):\n",
    "    \"\"\"\n",
    "    input\n",
    "    > time : (str) represented as HH:MM \n",
    "    \n",
    "    output\n",
    "    > minday : (min) order of minute of the day.\n",
    "    \n",
    "    \"\"\"\n",
    "    HH, MM = time.split(\":\")\n",
    "    \n",
    "    return int(HH)*60 + int(MM)"
   ]
  },
  {
   "cell_type": "code",
   "execution_count": 6,
   "metadata": {},
   "outputs": [
    {
     "data": {
      "text/plain": [
       "Series([], Name: 0, dtype: int64)"
      ]
     },
     "execution_count": 6,
     "metadata": {},
     "output_type": "execute_result"
    }
   ],
   "source": [
    "min_day_s0 = Ltime2[0].apply(min_day)\n",
    "min_day_s0[5:]"
   ]
  },
  {
   "cell_type": "code",
   "execution_count": 16,
   "metadata": {},
   "outputs": [],
   "source": [
    "min_day_s0 = Ltime2[0].apply(min_day)\n",
    "min_day_s1 = min_day_s0.shift(1)\n",
    "\n",
    "if np.where(min_day_s0 - min_day_s1 < 0)[0].any():\n",
    "    next_day_flag = 1\n",
    "    try:\n",
    "        next_day_start = np.where(min_day_s0 - min_day_s1 < 0)[0][0]\n",
    "    except:\n",
    "        next_day_start = len(min_day_s0)\n",
    "\n",
    "else:\n",
    "    next_day_flag = 0\n",
    "\n",
    "if next_day_flag:\n",
    "    min_day_s0[next_day_start:] = min_day_s0[next_day_start:] + 1440\n",
    "    \n",
    "Ltime2[\"min_day\"] = min_day_s0\n"
   ]
  },
  {
   "cell_type": "code",
   "execution_count": 8,
   "metadata": {},
   "outputs": [
    {
     "data": {
      "text/html": [
       "<div>\n",
       "<style scoped>\n",
       "    .dataframe tbody tr th:only-of-type {\n",
       "        vertical-align: middle;\n",
       "    }\n",
       "\n",
       "    .dataframe tbody tr th {\n",
       "        vertical-align: top;\n",
       "    }\n",
       "\n",
       "    .dataframe thead th {\n",
       "        text-align: right;\n",
       "    }\n",
       "</style>\n",
       "<table border=\"1\" class=\"dataframe\">\n",
       "  <thead>\n",
       "    <tr style=\"text-align: right;\">\n",
       "      <th></th>\n",
       "      <th>0</th>\n",
       "      <th>min_day</th>\n",
       "    </tr>\n",
       "  </thead>\n",
       "  <tbody>\n",
       "    <tr>\n",
       "      <th>0</th>\n",
       "      <td>18:48</td>\n",
       "      <td>1128</td>\n",
       "    </tr>\n",
       "    <tr>\n",
       "      <th>1</th>\n",
       "      <td>20:17</td>\n",
       "      <td>1217</td>\n",
       "    </tr>\n",
       "    <tr>\n",
       "      <th>2</th>\n",
       "      <td>21:37</td>\n",
       "      <td>1297</td>\n",
       "    </tr>\n",
       "    <tr>\n",
       "      <th>3</th>\n",
       "      <td>23:14</td>\n",
       "      <td>1394</td>\n",
       "    </tr>\n",
       "    <tr>\n",
       "      <th>4</th>\n",
       "      <td>01:00</td>\n",
       "      <td>1500</td>\n",
       "    </tr>\n",
       "  </tbody>\n",
       "</table>\n",
       "</div>"
      ],
      "text/plain": [
       "       0  min_day\n",
       "0  18:48     1128\n",
       "1  20:17     1217\n",
       "2  21:37     1297\n",
       "3  23:14     1394\n",
       "4  01:00     1500"
      ]
     },
     "execution_count": 8,
     "metadata": {},
     "output_type": "execute_result"
    }
   ],
   "source": [
    "Ltime2"
   ]
  },
  {
   "cell_type": "code",
   "execution_count": 9,
   "metadata": {},
   "outputs": [
    {
     "data": {
      "text/html": [
       "<div>\n",
       "<style scoped>\n",
       "    .dataframe tbody tr th:only-of-type {\n",
       "        vertical-align: middle;\n",
       "    }\n",
       "\n",
       "    .dataframe tbody tr th {\n",
       "        vertical-align: top;\n",
       "    }\n",
       "\n",
       "    .dataframe thead th {\n",
       "        text-align: right;\n",
       "    }\n",
       "</style>\n",
       "<table border=\"1\" class=\"dataframe\">\n",
       "  <thead>\n",
       "    <tr style=\"text-align: right;\">\n",
       "      <th></th>\n",
       "      <th>0</th>\n",
       "    </tr>\n",
       "  </thead>\n",
       "  <tbody>\n",
       "    <tr>\n",
       "      <th>0</th>\n",
       "      <td>210.643831</td>\n",
       "    </tr>\n",
       "    <tr>\n",
       "      <th>1</th>\n",
       "      <td>200.612015</td>\n",
       "    </tr>\n",
       "    <tr>\n",
       "      <th>2</th>\n",
       "      <td>192.659258</td>\n",
       "    </tr>\n",
       "    <tr>\n",
       "      <th>3</th>\n",
       "      <td>219.419681</td>\n",
       "    </tr>\n",
       "    <tr>\n",
       "      <th>4</th>\n",
       "      <td>192.953037</td>\n",
       "    </tr>\n",
       "  </tbody>\n",
       "</table>\n",
       "</div>"
      ],
      "text/plain": [
       "            0\n",
       "0  210.643831\n",
       "1  200.612015\n",
       "2  192.659258\n",
       "3  219.419681\n",
       "4  192.953037"
      ]
     },
     "execution_count": 9,
     "metadata": {},
     "output_type": "execute_result"
    }
   ],
   "source": [
    "Temperature"
   ]
  },
  {
   "cell_type": "code",
   "execution_count": 10,
   "metadata": {},
   "outputs": [
    {
     "data": {
      "text/html": [
       "<div>\n",
       "<style scoped>\n",
       "    .dataframe tbody tr th:only-of-type {\n",
       "        vertical-align: middle;\n",
       "    }\n",
       "\n",
       "    .dataframe tbody tr th {\n",
       "        vertical-align: top;\n",
       "    }\n",
       "\n",
       "    .dataframe thead th {\n",
       "        text-align: right;\n",
       "    }\n",
       "</style>\n",
       "<table border=\"1\" class=\"dataframe\">\n",
       "  <thead>\n",
       "    <tr style=\"text-align: right;\">\n",
       "      <th></th>\n",
       "      <th>0</th>\n",
       "      <th>min_day</th>\n",
       "    </tr>\n",
       "  </thead>\n",
       "  <tbody>\n",
       "    <tr>\n",
       "      <th>0</th>\n",
       "      <td>18:48</td>\n",
       "      <td>1128</td>\n",
       "    </tr>\n",
       "    <tr>\n",
       "      <th>1</th>\n",
       "      <td>20:17</td>\n",
       "      <td>1217</td>\n",
       "    </tr>\n",
       "    <tr>\n",
       "      <th>2</th>\n",
       "      <td>21:37</td>\n",
       "      <td>1297</td>\n",
       "    </tr>\n",
       "    <tr>\n",
       "      <th>3</th>\n",
       "      <td>23:14</td>\n",
       "      <td>1394</td>\n",
       "    </tr>\n",
       "    <tr>\n",
       "      <th>4</th>\n",
       "      <td>01:00</td>\n",
       "      <td>1500</td>\n",
       "    </tr>\n",
       "  </tbody>\n",
       "</table>\n",
       "</div>"
      ],
      "text/plain": [
       "       0  min_day\n",
       "0  18:48     1128\n",
       "1  20:17     1217\n",
       "2  21:37     1297\n",
       "3  23:14     1394\n",
       "4  01:00     1500"
      ]
     },
     "execution_count": 10,
     "metadata": {},
     "output_type": "execute_result"
    }
   ],
   "source": [
    "Ltime2"
   ]
  },
  {
   "cell_type": "code",
   "execution_count": 16,
   "metadata": {},
   "outputs": [],
   "source": [
    "Ltime2 = Ltime2.append({0: \"06:00\", \"min_day\": 1800}, ignore_index=True)\n",
    "Temperature = Temperature.append({0: Temperature[0].mean()}, ignore_index=True)"
   ]
  },
  {
   "cell_type": "code",
   "execution_count": 17,
   "metadata": {},
   "outputs": [
    {
     "data": {
      "text/html": [
       "<div>\n",
       "<style scoped>\n",
       "    .dataframe tbody tr th:only-of-type {\n",
       "        vertical-align: middle;\n",
       "    }\n",
       "\n",
       "    .dataframe tbody tr th {\n",
       "        vertical-align: top;\n",
       "    }\n",
       "\n",
       "    .dataframe thead th {\n",
       "        text-align: right;\n",
       "    }\n",
       "</style>\n",
       "<table border=\"1\" class=\"dataframe\">\n",
       "  <thead>\n",
       "    <tr style=\"text-align: right;\">\n",
       "      <th></th>\n",
       "      <th>0</th>\n",
       "      <th>min_day</th>\n",
       "    </tr>\n",
       "  </thead>\n",
       "  <tbody>\n",
       "    <tr>\n",
       "      <th>0</th>\n",
       "      <td>18:48</td>\n",
       "      <td>1128</td>\n",
       "    </tr>\n",
       "    <tr>\n",
       "      <th>1</th>\n",
       "      <td>20:17</td>\n",
       "      <td>1217</td>\n",
       "    </tr>\n",
       "    <tr>\n",
       "      <th>2</th>\n",
       "      <td>21:37</td>\n",
       "      <td>1297</td>\n",
       "    </tr>\n",
       "    <tr>\n",
       "      <th>3</th>\n",
       "      <td>23:14</td>\n",
       "      <td>1394</td>\n",
       "    </tr>\n",
       "    <tr>\n",
       "      <th>4</th>\n",
       "      <td>01:00</td>\n",
       "      <td>1500</td>\n",
       "    </tr>\n",
       "    <tr>\n",
       "      <th>5</th>\n",
       "      <td>06:00</td>\n",
       "      <td>1800</td>\n",
       "    </tr>\n",
       "  </tbody>\n",
       "</table>\n",
       "</div>"
      ],
      "text/plain": [
       "       0  min_day\n",
       "0  18:48     1128\n",
       "1  20:17     1217\n",
       "2  21:37     1297\n",
       "3  23:14     1394\n",
       "4  01:00     1500\n",
       "5  06:00     1800"
      ]
     },
     "execution_count": 17,
     "metadata": {},
     "output_type": "execute_result"
    }
   ],
   "source": [
    "Ltime2"
   ]
  },
  {
   "cell_type": "code",
   "execution_count": 11,
   "metadata": {},
   "outputs": [
    {
     "data": {
      "text/html": [
       "<div>\n",
       "<style scoped>\n",
       "    .dataframe tbody tr th:only-of-type {\n",
       "        vertical-align: middle;\n",
       "    }\n",
       "\n",
       "    .dataframe tbody tr th {\n",
       "        vertical-align: top;\n",
       "    }\n",
       "\n",
       "    .dataframe thead th {\n",
       "        text-align: right;\n",
       "    }\n",
       "</style>\n",
       "<table border=\"1\" class=\"dataframe\">\n",
       "  <thead>\n",
       "    <tr style=\"text-align: right;\">\n",
       "      <th></th>\n",
       "      <th>0</th>\n",
       "    </tr>\n",
       "  </thead>\n",
       "  <tbody>\n",
       "    <tr>\n",
       "      <th>0</th>\n",
       "      <td>210.643831</td>\n",
       "    </tr>\n",
       "    <tr>\n",
       "      <th>1</th>\n",
       "      <td>200.612015</td>\n",
       "    </tr>\n",
       "    <tr>\n",
       "      <th>2</th>\n",
       "      <td>192.659258</td>\n",
       "    </tr>\n",
       "    <tr>\n",
       "      <th>3</th>\n",
       "      <td>219.419681</td>\n",
       "    </tr>\n",
       "    <tr>\n",
       "      <th>4</th>\n",
       "      <td>192.953037</td>\n",
       "    </tr>\n",
       "  </tbody>\n",
       "</table>\n",
       "</div>"
      ],
      "text/plain": [
       "            0\n",
       "0  210.643831\n",
       "1  200.612015\n",
       "2  192.659258\n",
       "3  219.419681\n",
       "4  192.953037"
      ]
     },
     "execution_count": 11,
     "metadata": {},
     "output_type": "execute_result"
    }
   ],
   "source": [
    "Temperature"
   ]
  },
  {
   "cell_type": "code",
   "execution_count": 12,
   "metadata": {},
   "outputs": [],
   "source": [
    "def min_HHMM(mins):\n",
    "    HH = np.where(mins < 1440, mins//60, mins//60-24)\n",
    "    MM = mins % 60\n",
    "    \n",
    "    HHMM = list(zip(HH, MM))\n",
    "\n",
    "    return [f\"{int(hh):02d}:{int(mm):02d}\" for (hh, mm) in HHMM]\n"
   ]
  },
  {
   "cell_type": "code",
   "execution_count": 22,
   "metadata": {},
   "outputs": [
    {
     "data": {
      "text/plain": [
       "1900"
      ]
     },
     "execution_count": 22,
     "metadata": {},
     "output_type": "execute_result"
    }
   ],
   "source": [
    "(24+7)*60 + 40"
   ]
  },
  {
   "cell_type": "code",
   "execution_count": 23,
   "metadata": {},
   "outputs": [],
   "source": [
    "def plot(Ltime2, Temperature):\n",
    "    fig, ax = plt.subplots()\n",
    "    ax.set_xlabel(\"Local Time\")\n",
    "    ax.set_ylabel(\"P1 (2) / P1 (4) Temperature (K)\")\n",
    "    ax.scatter(Ltime2[\"min_day\"], Temperature[0], s=0)\n",
    "    ax.scatter(Ltime2[\"min_day\"].iloc[:-1], Temperature[0].iloc[:-1], s=30)\n",
    "    ax.set_xlim(1000, 1900)\n",
    "    xticks = ax.get_xticks()\n",
    "    xticklabels = min_HHMM(xticks)\n",
    "    ax.set_xticks(xticks)\n",
    "    ax.set_xticklabels(xticklabels)\n",
    "    ax.grid(True)\n",
    "    fig.autofmt_xdate()\n",
    "    \n",
    "    return plt.show()"
   ]
  },
  {
   "cell_type": "code",
   "execution_count": 24,
   "metadata": {},
   "outputs": [
    {
     "data": {
      "image/png": "[encoded data removed]",
      "text/plain": [
       "<Figure size 432x288 with 1 Axes>"
      ]
     },
     "metadata": {
      "needs_background": "light"
     },
     "output_type": "display_data"
    }
   ],
   "source": [
    "plot(Ltime2, Temperature)"
   ]
  },
  {
   "cell_type": "code",
   "execution_count": 27,
   "metadata": {},
   "outputs": [],
   "source": [
    "Ltime3 = '2013-02-01'"
   ]
  },
  {
   "cell_type": "code",
   "execution_count": 30,
   "metadata": {},
   "outputs": [],
   "source": [
    "def plot(Ltime2, Temperature, Ltime3): \n",
    "\n",
    "    # 1. Converting DatetimeIndex to DataFrame\n",
    "    #- actually a bypass of data handling, to make it easy to be controlled\n",
    "    Ltime2 = pd.DataFrame(Ltime2)\n",
    "    Temperature = pd.DataFrame(Temperature)\n",
    "\n",
    "    # 2. Time Standardization (min_day)\n",
    "    #- represent HH:MM as mimute in a day\n",
    "    #- the \"next day\" data has to be treated properly\n",
    "    def min_day(time):\n",
    "        \"\"\"\n",
    "        input\n",
    "        > time : (str) represented as HH:MM \n",
    "\n",
    "        output\n",
    "        > minday : (min) order of minute of the day.\n",
    "\n",
    "        \"\"\"\n",
    "        HH, MM = time.split(\":\")\n",
    "\n",
    "        return int(HH)*60 + int(MM)\n",
    "\n",
    "    min_day_s0 = Ltime2[0].apply(min_day)\n",
    "    min_day_s1 = min_day_s0.shift(1)\n",
    "\n",
    "    if np.where(min_day_s0 - min_day_s1 < 0)[0].any():\n",
    "        next_day_flag = 1\n",
    "        next_day_start = np.where(min_day_s0 - min_day_s1 < 0)[0][0]\n",
    "    \n",
    "    else:\n",
    "        next_day_flag = 0\n",
    "\n",
    "    if next_day_flag:\n",
    "        min_day_s0[next_day_start:] = min_day_s0[next_day_start:] + 1440\n",
    "\n",
    "    Ltime2[\"min_day\"] = min_day_s0\n",
    "\n",
    "    # 3. Converting \"min-day\" to \"HH:MM\" format.\n",
    "    #- for format transformation of xticklabels,\n",
    "    #- regarding the \"next day\" data.\n",
    "    def min_HHMM(mins):\n",
    "        HH = np.where(mins < 1440, mins//60, mins//60-24)\n",
    "        MM = mins % 60    \n",
    "        HHMM = list(zip(HH, MM))\n",
    "        return [f\"{int(hh):02d}:{int(mm):02d}\" for (hh, mm) in HHMM]\n",
    "\n",
    "    # 4. visualization\n",
    "    fig, ax = plt.subplots()\n",
    "    ax.set_xlabel(\"Local Time\")\n",
    "    ax.set_ylabel(\"P1 (2) / P1 (4) Temperature (K)\")\n",
    "\n",
    "    # plot data\n",
    "    ax.scatter(Ltime2[\"min_day\"], Temperature[0], s=30, label=Ltime3)\n",
    "\n",
    "    # set range of x axis from (16:40 ~ 07:40)\n",
    "    ax.set_xlim(1000, 1900)\n",
    "    \n",
    "    # actually does nothing.\n",
    "    # these lines are added to prevent Warning messages when set_xticklabels() are used without set_xticks()\n",
    "    xticks = ax.get_xticks()\n",
    "    ax.set_xticks(xticks)\n",
    "\n",
    "    # convert xticklabels from min_day to HH:MM format\n",
    "    xticklabels = min_HHMM(xticks)\n",
    "    ax.set_xticklabels(xticklabels)\n",
    "\n",
    "    ax.grid(True)\n",
    "    ax.legend()\n",
    "    fig.autofmt_xdate()\n",
    "\n",
    "    return plt.show()"
   ]
  },
  {
   "cell_type": "code",
   "execution_count": 31,
   "metadata": {},
   "outputs": [
    {
     "data": {
      "image/png": "[encoded data removed]",
      "text/plain": [
       "<Figure size 432x288 with 1 Axes>"
      ]
     },
     "metadata": {
      "needs_background": "light"
     },
     "output_type": "display_data"
    }
   ],
   "source": [
    "plot(Ltime2, Temperature, Ltime3)"
   ]
  },
  {
   "cell_type": "code",
   "execution_count": null,
   "metadata": {},
   "outputs": [],
   "source": []
  }
 ],
 "metadata": {
  "kernelspec": {
   "display_name": "Python 3",
   "language": "python",
   "name": "python3"
  },
  "language_info": {
   "codemirror_mode": {
    "name": "ipython",
    "version": 3
   },
   "file_extension": ".py",
   "mimetype": "text/x-python",
   "name": "python",
   "nbconvert_exporter": "python",
   "pygments_lexer": "ipython3",
   "version": "3.7.4"
  }
 },
 "nbformat": 4,
 "nbformat_minor": 4
}
