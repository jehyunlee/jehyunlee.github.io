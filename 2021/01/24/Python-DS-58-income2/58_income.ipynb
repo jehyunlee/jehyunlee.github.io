{
 "cells": [
  {
   "cell_type": "code",
   "execution_count": 2,
   "metadata": {},
   "outputs": [
    {
     "name": "stderr",
     "output_type": "stream",
     "text": [
      "In /opt/conda/lib/python3.7/site-packages/matplotlib/mpl-data/stylelib/_classic_test.mplstyle: \n",
      "The text.latex.preview rcparam was deprecated in Matplotlib 3.3 and will be removed two minor releases later.\n",
      "In /opt/conda/lib/python3.7/site-packages/matplotlib/mpl-data/stylelib/_classic_test.mplstyle: \n",
      "The mathtext.fallback_to_cm rcparam was deprecated in Matplotlib 3.3 and will be removed two minor releases later.\n",
      "In /opt/conda/lib/python3.7/site-packages/matplotlib/mpl-data/stylelib/_classic_test.mplstyle: Support for setting the 'mathtext.fallback_to_cm' rcParam is deprecated since 3.3 and will be removed two minor releases later; use 'mathtext.fallback : 'cm' instead.\n",
      "In /opt/conda/lib/python3.7/site-packages/matplotlib/mpl-data/stylelib/_classic_test.mplstyle: \n",
      "The validate_bool_maybe_none function was deprecated in Matplotlib 3.3 and will be removed two minor releases later.\n",
      "In /opt/conda/lib/python3.7/site-packages/matplotlib/mpl-data/stylelib/_classic_test.mplstyle: \n",
      "The savefig.jpeg_quality rcparam was deprecated in Matplotlib 3.3 and will be removed two minor releases later.\n",
      "In /opt/conda/lib/python3.7/site-packages/matplotlib/mpl-data/stylelib/_classic_test.mplstyle: \n",
      "The keymap.all_axes rcparam was deprecated in Matplotlib 3.3 and will be removed two minor releases later.\n",
      "In /opt/conda/lib/python3.7/site-packages/matplotlib/mpl-data/stylelib/_classic_test.mplstyle: \n",
      "The animation.avconv_path rcparam was deprecated in Matplotlib 3.3 and will be removed two minor releases later.\n",
      "In /opt/conda/lib/python3.7/site-packages/matplotlib/mpl-data/stylelib/_classic_test.mplstyle: \n",
      "The animation.avconv_args rcparam was deprecated in Matplotlib 3.3 and will be removed two minor releases later.\n"
     ]
    }
   ],
   "source": [
    "%matplotlib inline\n",
    "\n",
    "import pandas as pd\n",
    "import numpy as np\n",
    "import matplotlib.pyplot as plt"
   ]
  },
  {
   "cell_type": "code",
   "execution_count": 3,
   "metadata": {},
   "outputs": [
    {
     "name": "stdout",
     "output_type": "stream",
     "text": [
      "                                  2020\n",
      "\n",
      "      January                   February                   March\n",
      "Mo Tu We Th Fr Sa Su      Mo Tu We Th Fr Sa Su      Mo Tu We Th Fr Sa Su\n",
      "       1  2  3  4  5                      1  2                         1\n",
      " 6  7  8  9 10 11 12       3  4  5  6  7  8  9       2  3  4  5  6  7  8\n",
      "13 14 15 16 17 18 19      10 11 12 13 14 15 16       9 10 11 12 13 14 15\n",
      "20 21 22 23 24 25 26      17 18 19 20 21 22 23      16 17 18 19 20 21 22\n",
      "27 28 29 30 31            24 25 26 27 28 29         23 24 25 26 27 28 29\n",
      "                                                    30 31\n",
      "\n",
      "       April                      May                       June\n",
      "Mo Tu We Th Fr Sa Su      Mo Tu We Th Fr Sa Su      Mo Tu We Th Fr Sa Su\n",
      "       1  2  3  4  5                   1  2  3       1  2  3  4  5  6  7\n",
      " 6  7  8  9 10 11 12       4  5  6  7  8  9 10       8  9 10 11 12 13 14\n",
      "13 14 15 16 17 18 19      11 12 13 14 15 16 17      15 16 17 18 19 20 21\n",
      "20 21 22 23 24 25 26      18 19 20 21 22 23 24      22 23 24 25 26 27 28\n",
      "27 28 29 30               25 26 27 28 29 30 31      29 30\n",
      "\n",
      "        July                     August                  September\n",
      "Mo Tu We Th Fr Sa Su      Mo Tu We Th Fr Sa Su      Mo Tu We Th Fr Sa Su\n",
      "       1  2  3  4  5                      1  2          1  2  3  4  5  6\n",
      " 6  7  8  9 10 11 12       3  4  5  6  7  8  9       7  8  9 10 11 12 13\n",
      "13 14 15 16 17 18 19      10 11 12 13 14 15 16      14 15 16 17 18 19 20\n",
      "20 21 22 23 24 25 26      17 18 19 20 21 22 23      21 22 23 24 25 26 27\n",
      "27 28 29 30 31            24 25 26 27 28 29 30      28 29 30\n",
      "                          31\n",
      "\n",
      "      October                   November                  December\n",
      "Mo Tu We Th Fr Sa Su      Mo Tu We Th Fr Sa Su      Mo Tu We Th Fr Sa Su\n",
      "          1  2  3  4                         1          1  2  3  4  5  6\n",
      " 5  6  7  8  9 10 11       2  3  4  5  6  7  8       7  8  9 10 11 12 13\n",
      "12 13 14 15 16 17 18       9 10 11 12 13 14 15      14 15 16 17 18 19 20\n",
      "19 20 21 22 23 24 25      16 17 18 19 20 21 22      21 22 23 24 25 26 27\n",
      "26 27 28 29 30 31         23 24 25 26 27 28 29      28 29 30 31\n",
      "                          30\n",
      "\n"
     ]
    }
   ],
   "source": [
    "# https://lsjsj92.tistory.com/218\n",
    "\n",
    "import calendar\n",
    "\n",
    "print(calendar.calendar(2020))"
   ]
  },
  {
   "cell_type": "markdown",
   "metadata": {},
   "source": [
    "# Data Generation"
   ]
  },
  {
   "cell_type": "code",
   "execution_count": 3,
   "metadata": {},
   "outputs": [
    {
     "name": "stdout",
     "output_type": "stream",
     "text": [
      "1. time_init = 2020-01-01 00:00:00\n",
      "2. time_init(str) = 2020-01-01\n",
      "3. time_init(datetime) = 2020-01-01 00:00:00\n",
      "4. time_init(weekday) = 2\n"
     ]
    }
   ],
   "source": [
    "from datetime import datetime, timedelta\n",
    "\n",
    "time_init = datetime(2020, 1, 1)\n",
    "print(f\"1. time_init = {time_init}\")\n",
    "\n",
    "time_init_str = time_init.strftime('%Y-%m-%d')\n",
    "print(f\"2. time_init(str) = {time_init_str}\")\n",
    "\n",
    "time_init_datetime = datetime.strptime(time_init_str, \"%Y-%m-%d\")\n",
    "print(f\"3. time_init(datetime) = {time_init_datetime}\")\n",
    "\n",
    "time_init_weekday = time_init.weekday()\n",
    "print(f\"4. time_init(weekday) = {time_init_weekday}\")"
   ]
  },
  {
   "cell_type": "code",
   "execution_count": 4,
   "metadata": {},
   "outputs": [
    {
     "name": "stdout",
     "output_type": "stream",
     "text": [
      "5. time_59 = 2020-02-29\n"
     ]
    }
   ],
   "source": [
    "dt = timedelta(days=59)\n",
    "time_59 = time_init + dt\n",
    "print(f\"5. time_59 = {datetime.strftime(time_59,'%Y-%m-%d')}\")"
   ]
  },
  {
   "cell_type": "code",
   "execution_count": 5,
   "metadata": {},
   "outputs": [
    {
     "data": {
      "text/html": [
       "<div>\n",
       "<style scoped>\n",
       "    .dataframe tbody tr th:only-of-type {\n",
       "        vertical-align: middle;\n",
       "    }\n",
       "\n",
       "    .dataframe tbody tr th {\n",
       "        vertical-align: top;\n",
       "    }\n",
       "\n",
       "    .dataframe thead th {\n",
       "        text-align: right;\n",
       "    }\n",
       "</style>\n",
       "<table border=\"1\" class=\"dataframe\">\n",
       "  <thead>\n",
       "    <tr style=\"text-align: right;\">\n",
       "      <th></th>\n",
       "      <th>거래일자</th>\n",
       "    </tr>\n",
       "  </thead>\n",
       "  <tbody>\n",
       "    <tr>\n",
       "      <th>0</th>\n",
       "      <td>2020-01-01</td>\n",
       "    </tr>\n",
       "    <tr>\n",
       "      <th>1</th>\n",
       "      <td>2020-01-02</td>\n",
       "    </tr>\n",
       "    <tr>\n",
       "      <th>2</th>\n",
       "      <td>2020-01-03</td>\n",
       "    </tr>\n",
       "    <tr>\n",
       "      <th>3</th>\n",
       "      <td>2020-01-04</td>\n",
       "    </tr>\n",
       "    <tr>\n",
       "      <th>4</th>\n",
       "      <td>2020-01-05</td>\n",
       "    </tr>\n",
       "  </tbody>\n",
       "</table>\n",
       "</div>"
      ],
      "text/plain": [
       "         거래일자\n",
       "0  2020-01-01\n",
       "1  2020-01-02\n",
       "2  2020-01-03\n",
       "3  2020-01-04\n",
       "4  2020-01-05"
      ]
     },
     "execution_count": 5,
     "metadata": {},
     "output_type": "execute_result"
    }
   ],
   "source": [
    "dates = []\n",
    "for i in range(366):\n",
    "    date = time_init + timedelta(days=i)\n",
    "    dates.append(date.strftime('%Y-%m-%d'))\n",
    "    \n",
    "y2020 = pd.DataFrame({\"거래일자\": dates})\n",
    "y2020.head()"
   ]
  },
  {
   "cell_type": "markdown",
   "metadata": {},
   "source": [
    "## 근로소득"
   ]
  },
  {
   "cell_type": "markdown",
   "metadata": {},
   "source": [
    "### 회사\n",
    "> **기본급:** 월 200만원  \n",
    "> **출장비:** 일비 3만원, 교통비 3만원  \n",
    "> **성과급:** 건당 1천만원 "
   ]
  },
  {
   "cell_type": "markdown",
   "metadata": {},
   "source": [
    "* 수입 (1) 월급 - 200만원"
   ]
  },
  {
   "cell_type": "code",
   "execution_count": 6,
   "metadata": {},
   "outputs": [
    {
     "data": {
      "text/plain": [
       "Int64Index([20, 51, 80, 111, 141, 172, 202, 233, 264, 294, 325, 355], dtype='int64')"
      ]
     },
     "execution_count": 6,
     "metadata": {},
     "output_type": "execute_result"
    }
   ],
   "source": [
    "y2020[\"입금액\"] = np.nan\n",
    "\n",
    "# 월급날 = 21일\n",
    "idx_salary0 = y2020.loc[y2020[\"거래일자\"].str.split(\"-\").str[-1]==\"21\"].index\n",
    "idx_salary0"
   ]
  },
  {
   "cell_type": "code",
   "execution_count": 7,
   "metadata": {},
   "outputs": [
    {
     "name": "stdout",
     "output_type": "stream",
     "text": [
      "salary_w.weekday = [1 4 5 1 3 6 1 4 0 2 5 0]\n"
     ]
    }
   ],
   "source": [
    "salary_w = y2020[\"거래일자\"].loc[idx_salary0].apply(lambda x: datetime.strptime(x, '%Y-%m-%d').weekday())\n",
    "print(f\"salary_w.weekday = {salary_w.to_numpy()}\")"
   ]
  },
  {
   "cell_type": "code",
   "execution_count": 8,
   "metadata": {},
   "outputs": [
    {
     "data": {
      "text/plain": [
       "array([ 20,  51,  79, 111, 141, 170, 202, 233, 264, 294, 324, 355])"
      ]
     },
     "execution_count": 8,
     "metadata": {},
     "output_type": "execute_result"
    }
   ],
   "source": [
    "idx_salary = np.where(salary_w > 4, salary_w.index-(salary_w-4), salary_w.index)\n",
    "idx_salary"
   ]
  },
  {
   "cell_type": "code",
   "execution_count": 9,
   "metadata": {},
   "outputs": [],
   "source": [
    "salary = 2e6\n",
    "y2020.loc[idx_salary, \"입금액\"] = [f\"{int(x):d}\" for x in salary*(1 + 0.1*np.random.uniform(size=len(idx_salary)).round(3))]\n",
    "y2020.loc[idx_salary, \"적요\"] = [f\"우리회사_{i+1:02d}\" for i in range(len(idx_salary))]"
   ]
  },
  {
   "cell_type": "code",
   "execution_count": 10,
   "metadata": {},
   "outputs": [
    {
     "data": {
      "text/html": [
       "<div>\n",
       "<style scoped>\n",
       "    .dataframe tbody tr th:only-of-type {\n",
       "        vertical-align: middle;\n",
       "    }\n",
       "\n",
       "    .dataframe tbody tr th {\n",
       "        vertical-align: top;\n",
       "    }\n",
       "\n",
       "    .dataframe thead th {\n",
       "        text-align: right;\n",
       "    }\n",
       "</style>\n",
       "<table border=\"1\" class=\"dataframe\">\n",
       "  <thead>\n",
       "    <tr style=\"text-align: right;\">\n",
       "      <th></th>\n",
       "      <th>거래일자</th>\n",
       "      <th>입금액</th>\n",
       "      <th>적요</th>\n",
       "    </tr>\n",
       "  </thead>\n",
       "  <tbody>\n",
       "    <tr>\n",
       "      <th>18</th>\n",
       "      <td>2020-01-19</td>\n",
       "      <td>NaN</td>\n",
       "      <td>NaN</td>\n",
       "    </tr>\n",
       "    <tr>\n",
       "      <th>19</th>\n",
       "      <td>2020-01-20</td>\n",
       "      <td>NaN</td>\n",
       "      <td>NaN</td>\n",
       "    </tr>\n",
       "    <tr>\n",
       "      <th>20</th>\n",
       "      <td>2020-01-21</td>\n",
       "      <td>2111400</td>\n",
       "      <td>우리회사_01</td>\n",
       "    </tr>\n",
       "    <tr>\n",
       "      <th>21</th>\n",
       "      <td>2020-01-22</td>\n",
       "      <td>NaN</td>\n",
       "      <td>NaN</td>\n",
       "    </tr>\n",
       "    <tr>\n",
       "      <th>22</th>\n",
       "      <td>2020-01-23</td>\n",
       "      <td>NaN</td>\n",
       "      <td>NaN</td>\n",
       "    </tr>\n",
       "    <tr>\n",
       "      <th>23</th>\n",
       "      <td>2020-01-24</td>\n",
       "      <td>NaN</td>\n",
       "      <td>NaN</td>\n",
       "    </tr>\n",
       "  </tbody>\n",
       "</table>\n",
       "</div>"
      ],
      "text/plain": [
       "          거래일자      입금액       적요\n",
       "18  2020-01-19      NaN      NaN\n",
       "19  2020-01-20      NaN      NaN\n",
       "20  2020-01-21  2111400  우리회사_01\n",
       "21  2020-01-22      NaN      NaN\n",
       "22  2020-01-23      NaN      NaN\n",
       "23  2020-01-24      NaN      NaN"
      ]
     },
     "execution_count": 10,
     "metadata": {},
     "output_type": "execute_result"
    }
   ],
   "source": [
    "y2020.loc[18:23]"
   ]
  },
  {
   "cell_type": "markdown",
   "metadata": {},
   "source": [
    "* 수입 (2) 출장비 - 1년에 50번\n",
    "> **하루 1회 출장 :** 갈때 교통비 3만 + 일비 3만 + 올때 교통비 3만 = **9만원**  \n",
    "> **하루 n회 출장 :** 갈때 교통비 3만 + 일비 3만 + 이동 교통비 (n-1)\\*3만  + 올때 교통비 3만 = **(n+2) * 3만원**  "
   ]
  },
  {
   "cell_type": "code",
   "execution_count": 11,
   "metadata": {},
   "outputs": [],
   "source": [
    "weekday = y2020[\"거래일자\"].apply(lambda x: datetime.strptime(x, '%Y-%m-%d').weekday())\n",
    "workday = weekday[weekday < 5].index\n",
    "weekend = weekday[weekday > 4].index"
   ]
  },
  {
   "cell_type": "code",
   "execution_count": 12,
   "metadata": {},
   "outputs": [
    {
     "data": {
      "text/plain": [
       "array([ 86, 232,  12,  30, 254, 310,  50, 145, 160, 222, 244, 349, 181,\n",
       "        79,  49,  99,  20,  79, 155, 338, 223, 225,   7,   9, 225, 226,\n",
       "       274, 103, 356, 226, 118, 205, 174, 155, 285,  83,  82, 159,  36,\n",
       "        44, 110, 286, 104, 323, 330,  15, 126, 119,  16, 260])"
      ]
     },
     "execution_count": 12,
     "metadata": {},
     "output_type": "execute_result"
    }
   ],
   "source": [
    "idx_biztrip0 = np.random.choice(workday, size=50)\n",
    "idx_biztrip0"
   ]
  },
  {
   "cell_type": "code",
   "execution_count": 13,
   "metadata": {},
   "outputs": [
    {
     "name": "stdout",
     "output_type": "stream",
     "text": [
      "출장일 = ['2020-01-08' '2020-01-10' '2020-01-13' '2020-01-16' '2020-01-17'\n",
      " '2020-01-21' '2020-01-31' '2020-02-06' '2020-02-14' '2020-02-19'\n",
      " '2020-02-20' '2020-03-20' '2020-03-23' '2020-03-24' '2020-03-27'\n",
      " '2020-04-09' '2020-04-13' '2020-04-14' '2020-04-20' '2020-04-28'\n",
      " '2020-04-29' '2020-05-06' '2020-05-25' '2020-06-04' '2020-06-08'\n",
      " '2020-06-09' '2020-06-23' '2020-06-30' '2020-07-24' '2020-08-10'\n",
      " '2020-08-11' '2020-08-13' '2020-08-14' '2020-08-20' '2020-09-01'\n",
      " '2020-09-11' '2020-09-17' '2020-10-01' '2020-10-12' '2020-10-13'\n",
      " '2020-11-06' '2020-11-19' '2020-11-26' '2020-12-04' '2020-12-15'\n",
      " '2020-12-22']\n",
      "하루 출장횟수 = [1 1 1 1 1 1 1 1 1 1 1 2 1 1 1 1 1 1 1 1 1 1 1 2 1 1 1 1 1 1 1 2 2 1 1 1 1\n",
      " 1 1 1 1 1 1 1 1 1]\n",
      "출장비 = ['90000', '90000', '90000', '90000', '90000', '90000', '90000', '90000', '90000', '90000', '90000', '120000', '90000', '90000', '90000', '90000', '90000', '90000', '90000', '90000', '90000', '90000', '90000', '120000', '90000', '90000', '90000', '90000', '90000', '90000', '90000', '120000', '120000', '90000', '90000', '90000', '90000', '90000', '90000', '90000', '90000', '90000', '90000', '90000', '90000', '90000']\n"
     ]
    }
   ],
   "source": [
    "idx_biztrip, num_biztrip = np.unique(idx_biztrip0, return_counts=True)\n",
    "\n",
    "print(f\"출장일 = {y2020.loc[idx_biztrip, '거래일자'].values}\")\n",
    "print(f\"하루 출장횟수 = {num_biztrip}\")\n",
    "pay_biz = [f\"{30000*(n+2):d}\" for n in num_biztrip]\n",
    "print(f\"출장비 = {pay_biz}\")"
   ]
  },
  {
   "cell_type": "code",
   "execution_count": 14,
   "metadata": {},
   "outputs": [
    {
     "data": {
      "text/plain": [
       "{20, 79}"
      ]
     },
     "execution_count": 14,
     "metadata": {},
     "output_type": "execute_result"
    }
   ],
   "source": [
    "(set(idx_biztrip) & set(idx_salary))"
   ]
  },
  {
   "cell_type": "code",
   "execution_count": 15,
   "metadata": {},
   "outputs": [],
   "source": [
    "def put_income(df, idx_pay, pay, label):\n",
    "    \n",
    "    for i, idx in enumerate(idx_pay):\n",
    "        if df[\"입금액\"].isnull()[idx]:\n",
    "            df.loc[idx, \"입금액\"] = pay[i]\n",
    "            \n",
    "            label_note = f\"{label}_{(i+1):03d}\"\n",
    "            df.at[idx, \"적요\"] = label_note\n",
    "                \n",
    "        else:\n",
    "            income = df.loc[idx, \"입금액\"]\n",
    "            note = df.loc[idx, \"적요\"]\n",
    "            \n",
    "            if not isinstance(income, list):\n",
    "                income = [income]\n",
    "                note = [note]\n",
    "            df.at[idx, \"입금액\"] = income + [pay[i]]\n",
    "            \n",
    "            label_note = f\"{label}_{(i+1):03d}\"\n",
    "            df.at[idx, \"적요\"] = note + [label_note]\n",
    "\n",
    "    return df"
   ]
  },
  {
   "cell_type": "raw",
   "metadata": {},
   "source": [
    "# original\n",
    "from copy import deepcopy\n",
    "\n",
    "def put_income(df_, idx_label, pay, label, number=True):\n",
    "    df = deepcopy(df_)\n",
    "    \n",
    "    for i, idx in enumerate(idx_label):\n",
    "        if df[\"입금액\"].isnull()[idx]:\n",
    "            df.loc[idx, \"입금액\"] = pay[i]\n",
    "            \n",
    "            if isinstance(label, str):\n",
    "                label_note = f\"{label}\"\n",
    "                if number:\n",
    "                    label_note += f\"_{(i+1):03d}\"\n",
    "                df.at[idx, \"적요\"] = label_note\n",
    "            else:\n",
    "                df.at[idx, \"적요\"] = label[i]\n",
    "                \n",
    "        else:\n",
    "            income = df.loc[idx, \"입금액\"]\n",
    "            note = df.loc[idx, \"적요\"]\n",
    "            \n",
    "            if not isinstance(income, list):\n",
    "                income = [income]\n",
    "                note = [note]\n",
    "            df.at[idx, \"입금액\"] = income + [pay[i]]\n",
    "            \n",
    "            if isinstance(label, str):\n",
    "                label_note = f\"{label}\"\n",
    "                if number:\n",
    "                    label_note += f\"_{(i+1):03d}\"\n",
    "                df.at[idx, \"적요\"] = note + [label_note]\n",
    "            else:\n",
    "                df.at[idx, \"적요\"] = note + [label[i]]\n",
    "\n",
    "    return df"
   ]
  },
  {
   "cell_type": "code",
   "execution_count": 16,
   "metadata": {},
   "outputs": [],
   "source": [
    "y2020 = put_income(y2020, idx_biztrip, pay_biz, \"출장\")"
   ]
  },
  {
   "cell_type": "code",
   "execution_count": 24,
   "metadata": {},
   "outputs": [
    {
     "data": {
      "text/html": [
       "<div>\n",
       "<style scoped>\n",
       "    .dataframe tbody tr th:only-of-type {\n",
       "        vertical-align: middle;\n",
       "    }\n",
       "\n",
       "    .dataframe tbody tr th {\n",
       "        vertical-align: top;\n",
       "    }\n",
       "\n",
       "    .dataframe thead th {\n",
       "        text-align: right;\n",
       "    }\n",
       "</style>\n",
       "<table border=\"1\" class=\"dataframe\">\n",
       "  <thead>\n",
       "    <tr style=\"text-align: right;\">\n",
       "      <th></th>\n",
       "      <th>거래일자</th>\n",
       "      <th>입금액</th>\n",
       "      <th>적요</th>\n",
       "    </tr>\n",
       "  </thead>\n",
       "  <tbody>\n",
       "    <tr>\n",
       "      <th>79</th>\n",
       "      <td>2020-03-20</td>\n",
       "      <td>[2051000, 120000]</td>\n",
       "      <td>[우리회사_03, 출장_012]</td>\n",
       "    </tr>\n",
       "    <tr>\n",
       "      <th>80</th>\n",
       "      <td>2020-03-21</td>\n",
       "      <td>NaN</td>\n",
       "      <td>NaN</td>\n",
       "    </tr>\n",
       "    <tr>\n",
       "      <th>81</th>\n",
       "      <td>2020-03-22</td>\n",
       "      <td>NaN</td>\n",
       "      <td>NaN</td>\n",
       "    </tr>\n",
       "    <tr>\n",
       "      <th>82</th>\n",
       "      <td>2020-03-23</td>\n",
       "      <td>90000</td>\n",
       "      <td>출장_013</td>\n",
       "    </tr>\n",
       "  </tbody>\n",
       "</table>\n",
       "</div>"
      ],
      "text/plain": [
       "          거래일자                입금액                 적요\n",
       "79  2020-03-20  [2051000, 120000]  [우리회사_03, 출장_012]\n",
       "80  2020-03-21                NaN                NaN\n",
       "81  2020-03-22                NaN                NaN\n",
       "82  2020-03-23              90000             출장_013"
      ]
     },
     "execution_count": 24,
     "metadata": {},
     "output_type": "execute_result"
    }
   ],
   "source": [
    "y2020.loc[79:82]"
   ]
  },
  {
   "cell_type": "markdown",
   "metadata": {},
   "source": [
    "* 수입 (3) 인센티브 - 1년에 최대 5번\n",
    "> N회째 계약 성공 확률 = $0.7^N$  \n",
    "> 1회 계약시 인센티브 1천만원"
   ]
  },
  {
   "cell_type": "code",
   "execution_count": 18,
   "metadata": {},
   "outputs": [
    {
     "name": "stdout",
     "output_type": "stream",
     "text": [
      "계약 성공 횟수 = 3\n"
     ]
    }
   ],
   "source": [
    "num_success = 0\n",
    "count = 0\n",
    "result = 1\n",
    "\n",
    "while count < 5 and result == 1:\n",
    "    p_success = np.power(0.7, (count+1))\n",
    "    result = np.random.choice([0, 1], p=[1-p_success, p_success])\n",
    "    count += result\n",
    "\n",
    "print(f\"계약 성공 횟수 = {count}\")"
   ]
  },
  {
   "cell_type": "code",
   "execution_count": 19,
   "metadata": {},
   "outputs": [
    {
     "data": {
      "text/plain": [
       "array([ 30, 212, 275])"
      ]
     },
     "execution_count": 19,
     "metadata": {},
     "output_type": "execute_result"
    }
   ],
   "source": [
    "idx_success = np.random.choice(workday, count)\n",
    "idx_success"
   ]
  },
  {
   "cell_type": "code",
   "execution_count": 20,
   "metadata": {},
   "outputs": [],
   "source": [
    "def put_income(df, idx_pay, pay, label, number=True):\n",
    "    \n",
    "    for i, idx in enumerate(idx_pay):\n",
    "        if df[\"입금액\"].isnull()[idx]:\n",
    "            df.loc[idx, \"입금액\"] = pay[i]\n",
    "            \n",
    "            label_note = f\"{label}\"\n",
    "            if number:\n",
    "                label_note += f\"_{(i+1):03d}\"\n",
    "            df.at[idx, \"적요\"] = label_note\n",
    "                \n",
    "        else:\n",
    "            income = df.loc[idx, \"입금액\"]\n",
    "            note = df.loc[idx, \"적요\"]\n",
    "            \n",
    "            if not isinstance(income, list):\n",
    "                income = [income]\n",
    "                note = [note]\n",
    "            df.at[idx, \"입금액\"] = income + [pay[i]]\n",
    "            \n",
    "            label_note = f\"{label}\"\n",
    "            if number:\n",
    "                label_note += f\"_{(i+1):03d}\"\n",
    "            df.at[idx, \"적요\"] = note + [label_note]\n",
    "            \n",
    "    return df\n"
   ]
  },
  {
   "cell_type": "code",
   "execution_count": 21,
   "metadata": {},
   "outputs": [
    {
     "name": "stdout",
     "output_type": "stream",
     "text": [
      "{30}\n",
      "set()\n"
     ]
    }
   ],
   "source": [
    "print(set(idx_biztrip) & set(idx_success))\n",
    "print(set(idx_salary) & set(idx_success))"
   ]
  },
  {
   "cell_type": "code",
   "execution_count": 25,
   "metadata": {},
   "outputs": [
    {
     "data": {
      "text/plain": [
       "거래일자           2020-01-31\n",
       "입금액     [90000, 10000000]\n",
       "적요          [출장_007, 성과급]\n",
       "Name: 30, dtype: object"
      ]
     },
     "execution_count": 25,
     "metadata": {},
     "output_type": "execute_result"
    }
   ],
   "source": [
    "y2020 = put_income(y2020, idx_success, [\"10000000\"]*len(idx_success), \"성과급\", number=False)\n",
    "y2020.loc[30]"
   ]
  },
  {
   "cell_type": "code",
   "execution_count": 26,
   "metadata": {},
   "outputs": [],
   "source": [
    "y2020.to_pickle(\"y2020.pkl\")"
   ]
  },
  {
   "cell_type": "code",
   "execution_count": 28,
   "metadata": {},
   "outputs": [
    {
     "data": {
      "text/html": [
       "<div>\n",
       "<style scoped>\n",
       "    .dataframe tbody tr th:only-of-type {\n",
       "        vertical-align: middle;\n",
       "    }\n",
       "\n",
       "    .dataframe tbody tr th {\n",
       "        vertical-align: top;\n",
       "    }\n",
       "\n",
       "    .dataframe thead th {\n",
       "        text-align: right;\n",
       "    }\n",
       "</style>\n",
       "<table border=\"1\" class=\"dataframe\">\n",
       "  <thead>\n",
       "    <tr style=\"text-align: right;\">\n",
       "      <th></th>\n",
       "      <th>거래일자</th>\n",
       "      <th>입금액</th>\n",
       "      <th>적요</th>\n",
       "    </tr>\n",
       "  </thead>\n",
       "  <tbody>\n",
       "    <tr>\n",
       "      <th>7</th>\n",
       "      <td>2020-01-08</td>\n",
       "      <td>90000</td>\n",
       "      <td>출장_001</td>\n",
       "    </tr>\n",
       "    <tr>\n",
       "      <th>9</th>\n",
       "      <td>2020-01-10</td>\n",
       "      <td>90000</td>\n",
       "      <td>출장_002</td>\n",
       "    </tr>\n",
       "    <tr>\n",
       "      <th>12</th>\n",
       "      <td>2020-01-13</td>\n",
       "      <td>90000</td>\n",
       "      <td>출장_003</td>\n",
       "    </tr>\n",
       "    <tr>\n",
       "      <th>15</th>\n",
       "      <td>2020-01-16</td>\n",
       "      <td>90000</td>\n",
       "      <td>출장_004</td>\n",
       "    </tr>\n",
       "    <tr>\n",
       "      <th>16</th>\n",
       "      <td>2020-01-17</td>\n",
       "      <td>90000</td>\n",
       "      <td>출장_005</td>\n",
       "    </tr>\n",
       "    <tr>\n",
       "      <th>20</th>\n",
       "      <td>2020-01-21</td>\n",
       "      <td>[2111400, 90000]</td>\n",
       "      <td>[우리회사_01, 출장_006]</td>\n",
       "    </tr>\n",
       "    <tr>\n",
       "      <th>30</th>\n",
       "      <td>2020-01-31</td>\n",
       "      <td>[90000, 10000000]</td>\n",
       "      <td>[출장_007, 성과급]</td>\n",
       "    </tr>\n",
       "    <tr>\n",
       "      <th>36</th>\n",
       "      <td>2020-02-06</td>\n",
       "      <td>90000</td>\n",
       "      <td>출장_008</td>\n",
       "    </tr>\n",
       "    <tr>\n",
       "      <th>44</th>\n",
       "      <td>2020-02-14</td>\n",
       "      <td>90000</td>\n",
       "      <td>출장_009</td>\n",
       "    </tr>\n",
       "    <tr>\n",
       "      <th>49</th>\n",
       "      <td>2020-02-19</td>\n",
       "      <td>90000</td>\n",
       "      <td>출장_010</td>\n",
       "    </tr>\n",
       "  </tbody>\n",
       "</table>\n",
       "</div>"
      ],
      "text/plain": [
       "          거래일자                입금액                 적요\n",
       "7   2020-01-08              90000             출장_001\n",
       "9   2020-01-10              90000             출장_002\n",
       "12  2020-01-13              90000             출장_003\n",
       "15  2020-01-16              90000             출장_004\n",
       "16  2020-01-17              90000             출장_005\n",
       "20  2020-01-21   [2111400, 90000]  [우리회사_01, 출장_006]\n",
       "30  2020-01-31  [90000, 10000000]      [출장_007, 성과급]\n",
       "36  2020-02-06              90000             출장_008\n",
       "44  2020-02-14              90000             출장_009\n",
       "49  2020-02-19              90000             출장_010"
      ]
     },
     "execution_count": 28,
     "metadata": {},
     "output_type": "execute_result"
    }
   ],
   "source": [
    "y2020.dropna().head(10)"
   ]
  },
  {
   "cell_type": "markdown",
   "metadata": {},
   "source": [
    "### 투잡\n",
    "> **기본급:** 없음  \n",
    "> **출장비:** 없음  \n",
    "> **컨텐츠 제작비:** 건당 10만원 (출장 없는 날). **2차 창작:** 100만원(1% 확률)"
   ]
  },
  {
   "cell_type": "code",
   "execution_count": 84,
   "metadata": {},
   "outputs": [],
   "source": [
    "y2020 = pd.read_pickle(\"y2020.pkl\")"
   ]
  },
  {
   "cell_type": "code",
   "execution_count": 85,
   "metadata": {},
   "outputs": [
    {
     "data": {
      "text/plain": [
       "320"
      ]
     },
     "execution_count": 85,
     "metadata": {},
     "output_type": "execute_result"
    }
   ],
   "source": [
    "idx_twojob_max = np.array(list(set(y2020.index) - set(idx_biztrip)))\n",
    "len(idx_twojob_max)"
   ]
  },
  {
   "cell_type": "code",
   "execution_count": 86,
   "metadata": {},
   "outputs": [
    {
     "data": {
      "text/plain": [
       "142"
      ]
     },
     "execution_count": 86,
     "metadata": {},
     "output_type": "execute_result"
    }
   ],
   "source": [
    "num_twojob = int(np.random.normal(loc=0.5*len(idx_twojob_max*0.6), scale=30, size=1))\n",
    "num_twojob"
   ]
  },
  {
   "cell_type": "code",
   "execution_count": 87,
   "metadata": {},
   "outputs": [
    {
     "data": {
      "text/plain": [
       "0.44375"
      ]
     },
     "execution_count": 87,
     "metadata": {},
     "output_type": "execute_result"
    }
   ],
   "source": [
    "num_twojob/len(idx_twojob_max)"
   ]
  },
  {
   "cell_type": "code",
   "execution_count": 88,
   "metadata": {},
   "outputs": [],
   "source": [
    "idx_twojob = np.random.choice(idx_twojob_max, size=num_twojob, replace=False)\n",
    "idx_twojob.sort()\n"
   ]
  },
  {
   "cell_type": "code",
   "execution_count": 89,
   "metadata": {},
   "outputs": [
    {
     "data": {
      "text/html": [
       "<div>\n",
       "<style scoped>\n",
       "    .dataframe tbody tr th:only-of-type {\n",
       "        vertical-align: middle;\n",
       "    }\n",
       "\n",
       "    .dataframe tbody tr th {\n",
       "        vertical-align: top;\n",
       "    }\n",
       "\n",
       "    .dataframe thead th {\n",
       "        text-align: right;\n",
       "    }\n",
       "</style>\n",
       "<table border=\"1\" class=\"dataframe\">\n",
       "  <thead>\n",
       "    <tr style=\"text-align: right;\">\n",
       "      <th></th>\n",
       "      <th>거래일자</th>\n",
       "      <th>입금액</th>\n",
       "      <th>적요</th>\n",
       "    </tr>\n",
       "  </thead>\n",
       "  <tbody>\n",
       "    <tr>\n",
       "      <th>0</th>\n",
       "      <td>2020-01-01</td>\n",
       "      <td>100000</td>\n",
       "      <td>OO컨텐츠</td>\n",
       "    </tr>\n",
       "    <tr>\n",
       "      <th>1</th>\n",
       "      <td>2020-01-02</td>\n",
       "      <td>NaN</td>\n",
       "      <td>NaN</td>\n",
       "    </tr>\n",
       "    <tr>\n",
       "      <th>2</th>\n",
       "      <td>2020-01-03</td>\n",
       "      <td>NaN</td>\n",
       "      <td>NaN</td>\n",
       "    </tr>\n",
       "    <tr>\n",
       "      <th>3</th>\n",
       "      <td>2020-01-04</td>\n",
       "      <td>100000</td>\n",
       "      <td>OO컨텐츠</td>\n",
       "    </tr>\n",
       "    <tr>\n",
       "      <th>4</th>\n",
       "      <td>2020-01-05</td>\n",
       "      <td>NaN</td>\n",
       "      <td>NaN</td>\n",
       "    </tr>\n",
       "    <tr>\n",
       "      <th>5</th>\n",
       "      <td>2020-01-06</td>\n",
       "      <td>NaN</td>\n",
       "      <td>NaN</td>\n",
       "    </tr>\n",
       "    <tr>\n",
       "      <th>6</th>\n",
       "      <td>2020-01-07</td>\n",
       "      <td>NaN</td>\n",
       "      <td>NaN</td>\n",
       "    </tr>\n",
       "    <tr>\n",
       "      <th>7</th>\n",
       "      <td>2020-01-08</td>\n",
       "      <td>90000</td>\n",
       "      <td>출장_001</td>\n",
       "    </tr>\n",
       "    <tr>\n",
       "      <th>8</th>\n",
       "      <td>2020-01-09</td>\n",
       "      <td>NaN</td>\n",
       "      <td>NaN</td>\n",
       "    </tr>\n",
       "    <tr>\n",
       "      <th>9</th>\n",
       "      <td>2020-01-10</td>\n",
       "      <td>90000</td>\n",
       "      <td>출장_002</td>\n",
       "    </tr>\n",
       "  </tbody>\n",
       "</table>\n",
       "</div>"
      ],
      "text/plain": [
       "         거래일자     입금액      적요\n",
       "0  2020-01-01  100000   OO컨텐츠\n",
       "1  2020-01-02     NaN     NaN\n",
       "2  2020-01-03     NaN     NaN\n",
       "3  2020-01-04  100000   OO컨텐츠\n",
       "4  2020-01-05     NaN     NaN\n",
       "5  2020-01-06     NaN     NaN\n",
       "6  2020-01-07     NaN     NaN\n",
       "7  2020-01-08   90000  출장_001\n",
       "8  2020-01-09     NaN     NaN\n",
       "9  2020-01-10   90000  출장_002"
      ]
     },
     "execution_count": 89,
     "metadata": {},
     "output_type": "execute_result"
    }
   ],
   "source": [
    "# twojob\n",
    "y2020 = put_income(y2020, idx_twojob, [100000]*num_twojob, \"OO컨텐츠\", number=False)\n",
    "y2020.head(10)"
   ]
  },
  {
   "cell_type": "code",
   "execution_count": 90,
   "metadata": {},
   "outputs": [
    {
     "name": "stdout",
     "output_type": "stream",
     "text": [
      "[60 70 93]\n"
     ]
    }
   ],
   "source": [
    "# 2차 창작\n",
    "idx_2nd_ = np.random.choice([0, 1], size=num_twojob, p=[0.99, 0.01])\n",
    "idx_2nd = np.where(idx_2nd_==1)[0]\n",
    "print(idx_2nd)\n",
    "idx_2nd += 7"
   ]
  },
  {
   "cell_type": "code",
   "execution_count": 91,
   "metadata": {},
   "outputs": [],
   "source": [
    "def put_income(df, idx_pay, pay, label, number=True):\n",
    "    \n",
    "    for i, idx in enumerate(idx_pay):\n",
    "        if df[\"입금액\"].isnull()[idx]:\n",
    "            df.loc[idx, \"입금액\"] = pay[i]\n",
    "            \n",
    "            if isinstance(label, str):\n",
    "                label_note = f\"{label}\"\n",
    "                if number:\n",
    "                    label_note += f\"_{(i+1):03d}\"\n",
    "                df.at[idx, \"적요\"] = label_note\n",
    "                \n",
    "            # label이 list로 들어오는 경우\n",
    "            else:\n",
    "                df.at[idx, \"적요\"] = label[i]\n",
    "                \n",
    "        else:\n",
    "            income = df.loc[idx, \"입금액\"]\n",
    "            note = df.loc[idx, \"적요\"]\n",
    "            \n",
    "            if not isinstance(income, list):\n",
    "                income = [income]\n",
    "                note = [note]\n",
    "            df.at[idx, \"입금액\"] = income + [pay[i]]\n",
    "            \n",
    "            if isinstance(label, str):\n",
    "                label_note = f\"{label}\"\n",
    "                if number:\n",
    "                    label_note += f\"_{(i+1):03d}\"\n",
    "                df.at[idx, \"적요\"] = note + [label_note]\n",
    "                \n",
    "            # label이 list로 들어오는 경우\n",
    "            else:\n",
    "                df.at[idx, \"적요\"] = note + [label[i]]\n",
    "\n",
    "    return df"
   ]
  },
  {
   "cell_type": "code",
   "execution_count": 98,
   "metadata": {},
   "outputs": [],
   "source": [
    "# 2nd\n",
    "num_idx_2nd = len(idx_2nd)\n",
    "y2020 = put_income(y2020, idx_2nd, [1000000]*num_idx_2nd, np.random.choice([\"계약금_출판\", \"출연료\", \"저작권료\"], size=num_idx_2nd), number=False)"
   ]
  },
  {
   "cell_type": "code",
   "execution_count": 100,
   "metadata": {},
   "outputs": [
    {
     "data": {
      "text/html": [
       "<div>\n",
       "<style scoped>\n",
       "    .dataframe tbody tr th:only-of-type {\n",
       "        vertical-align: middle;\n",
       "    }\n",
       "\n",
       "    .dataframe tbody tr th {\n",
       "        vertical-align: top;\n",
       "    }\n",
       "\n",
       "    .dataframe thead th {\n",
       "        text-align: right;\n",
       "    }\n",
       "</style>\n",
       "<table border=\"1\" class=\"dataframe\">\n",
       "  <thead>\n",
       "    <tr style=\"text-align: right;\">\n",
       "      <th></th>\n",
       "      <th>거래일자</th>\n",
       "      <th>입금액</th>\n",
       "      <th>적요</th>\n",
       "    </tr>\n",
       "  </thead>\n",
       "  <tbody>\n",
       "    <tr>\n",
       "      <th>67</th>\n",
       "      <td>2020-03-08</td>\n",
       "      <td>[100000, 1000000]</td>\n",
       "      <td>[OO컨텐츠, 출연료]</td>\n",
       "    </tr>\n",
       "    <tr>\n",
       "      <th>77</th>\n",
       "      <td>2020-03-18</td>\n",
       "      <td>1000000</td>\n",
       "      <td>출연료</td>\n",
       "    </tr>\n",
       "    <tr>\n",
       "      <th>100</th>\n",
       "      <td>2020-04-10</td>\n",
       "      <td>[100000, 1000000]</td>\n",
       "      <td>[OO컨텐츠, 계약금_출판]</td>\n",
       "    </tr>\n",
       "  </tbody>\n",
       "</table>\n",
       "</div>"
      ],
      "text/plain": [
       "           거래일자                입금액               적요\n",
       "67   2020-03-08  [100000, 1000000]     [OO컨텐츠, 출연료]\n",
       "77   2020-03-18            1000000              출연료\n",
       "100  2020-04-10  [100000, 1000000]  [OO컨텐츠, 계약금_출판]"
      ]
     },
     "execution_count": 100,
     "metadata": {},
     "output_type": "execute_result"
    }
   ],
   "source": [
    "y2020.loc[[67, 77, 100]]"
   ]
  },
  {
   "cell_type": "markdown",
   "metadata": {},
   "source": [
    "## 기타 입금"
   ]
  },
  {
   "cell_type": "code",
   "execution_count": 101,
   "metadata": {},
   "outputs": [],
   "source": [
    "# 신용카드 환불\n",
    "credit_num = 200\n",
    "idx_credit = np.random.choice(workday, credit_num)\n",
    "credit_cards = np.random.choice([\"AA카드\", \"BB카드\",  \"CC카드\", \"DD카드\", \"EE카드\", \"결제환급\", \"XX마트\"], credit_num)\n",
    "credit_refunds = [int(500 + 300* (np.random.random()-0.5))*100 for _ in range(credit_num)]\n",
    "\n",
    "# 자녀 용돈\n",
    "breed_num = 20\n",
    "idx_breed = np.random.choice(weekend, breed_num)\n",
    "breed_persons = np.random.choice([\"할아버지할머니\", \"삼촌숙모\", \"이모이모부\", \"고모고모부\", \"이웃어른\"], breed_num)\n",
    "breed_moneys = np.random.choice([10000, 30000, 50000], size=breed_num)"
   ]
  },
  {
   "cell_type": "code",
   "execution_count": 32,
   "metadata": {},
   "outputs": [],
   "source": [
    "from copy import deepcopy\n",
    "\n",
    "def put_income(df, idx_label, pay, label):\n",
    "    df_ = deepcopy(df)\n",
    "    \n",
    "    for i, idx in enumerate(idx_label):\n",
    "        if df_[\"입금액\"].isnull()[idx]:\n",
    "            df_.loc[idx, \"입금액\"] = pay[i]\n",
    "            \n",
    "            if isinstance(label, str):\n",
    "                df_.at[idx, \"적요\"] = f\"{label}_{i:03d}\"\n",
    "            else:\n",
    "                df_.at[idx, \"적요\"] = label[i]\n",
    "                \n",
    "        else:\n",
    "            income = df_.loc[idx, \"입금액\"]\n",
    "            note = df_.loc[idx, \"적요\"]\n",
    "            \n",
    "            if not isinstance(income, list):\n",
    "                income = [income]\n",
    "                note = [note]\n",
    "            df_.at[idx, \"입금액\"] = income + [pay[i]]\n",
    "            \n",
    "            if isinstance(label, str):\n",
    "                df_.at[idx, \"적요\"] = note + [f\"{label}_{i:03d}\"]\n",
    "            else:\n",
    "                df_.at[idx, \"적요\"] = note + [label[i]]\n",
    "\n",
    "    return df_"
   ]
  },
  {
   "cell_type": "code",
   "execution_count": 105,
   "metadata": {},
   "outputs": [],
   "source": [
    "y2020 = put_income(y2020, idx_credit, credit_refunds, credit_cards, number=False)"
   ]
  },
  {
   "cell_type": "code",
   "execution_count": 106,
   "metadata": {},
   "outputs": [],
   "source": [
    "y2020 = put_income(y2020, idx_breed, breed_moneys, breed_persons, number=False)"
   ]
  },
  {
   "cell_type": "code",
   "execution_count": 108,
   "metadata": {},
   "outputs": [
    {
     "data": {
      "text/html": [
       "<div>\n",
       "<style scoped>\n",
       "    .dataframe tbody tr th:only-of-type {\n",
       "        vertical-align: middle;\n",
       "    }\n",
       "\n",
       "    .dataframe tbody tr th {\n",
       "        vertical-align: top;\n",
       "    }\n",
       "\n",
       "    .dataframe thead th {\n",
       "        text-align: right;\n",
       "    }\n",
       "</style>\n",
       "<table border=\"1\" class=\"dataframe\">\n",
       "  <thead>\n",
       "    <tr style=\"text-align: right;\">\n",
       "      <th></th>\n",
       "      <th>거래일자</th>\n",
       "      <th>입금액</th>\n",
       "      <th>적요</th>\n",
       "    </tr>\n",
       "  </thead>\n",
       "  <tbody>\n",
       "    <tr>\n",
       "      <th>95</th>\n",
       "      <td>2020-04-05</td>\n",
       "      <td>NaN</td>\n",
       "      <td>NaN</td>\n",
       "    </tr>\n",
       "    <tr>\n",
       "      <th>96</th>\n",
       "      <td>2020-04-06</td>\n",
       "      <td>[100000, 51500]</td>\n",
       "      <td>[OO컨텐츠, DD카드]</td>\n",
       "    </tr>\n",
       "    <tr>\n",
       "      <th>97</th>\n",
       "      <td>2020-04-07</td>\n",
       "      <td>100000</td>\n",
       "      <td>OO컨텐츠</td>\n",
       "    </tr>\n",
       "    <tr>\n",
       "      <th>98</th>\n",
       "      <td>2020-04-08</td>\n",
       "      <td>100000</td>\n",
       "      <td>OO컨텐츠</td>\n",
       "    </tr>\n",
       "    <tr>\n",
       "      <th>99</th>\n",
       "      <td>2020-04-09</td>\n",
       "      <td>90000</td>\n",
       "      <td>출장_016</td>\n",
       "    </tr>\n",
       "    <tr>\n",
       "      <th>100</th>\n",
       "      <td>2020-04-10</td>\n",
       "      <td>[100000, 1000000]</td>\n",
       "      <td>[OO컨텐츠, 계약금_출판]</td>\n",
       "    </tr>\n",
       "    <tr>\n",
       "      <th>101</th>\n",
       "      <td>2020-04-11</td>\n",
       "      <td>NaN</td>\n",
       "      <td>NaN</td>\n",
       "    </tr>\n",
       "    <tr>\n",
       "      <th>102</th>\n",
       "      <td>2020-04-12</td>\n",
       "      <td>100000</td>\n",
       "      <td>OO컨텐츠</td>\n",
       "    </tr>\n",
       "    <tr>\n",
       "      <th>103</th>\n",
       "      <td>2020-04-13</td>\n",
       "      <td>90000</td>\n",
       "      <td>출장_017</td>\n",
       "    </tr>\n",
       "    <tr>\n",
       "      <th>104</th>\n",
       "      <td>2020-04-14</td>\n",
       "      <td>[90000, 52300, 62300, 41200]</td>\n",
       "      <td>[출장_018, 결제환급, AA카드, AA카드]</td>\n",
       "    </tr>\n",
       "    <tr>\n",
       "      <th>105</th>\n",
       "      <td>2020-04-15</td>\n",
       "      <td>NaN</td>\n",
       "      <td>NaN</td>\n",
       "    </tr>\n",
       "  </tbody>\n",
       "</table>\n",
       "</div>"
      ],
      "text/plain": [
       "           거래일자                           입금액                          적요\n",
       "95   2020-04-05                           NaN                         NaN\n",
       "96   2020-04-06               [100000, 51500]               [OO컨텐츠, DD카드]\n",
       "97   2020-04-07                        100000                       OO컨텐츠\n",
       "98   2020-04-08                        100000                       OO컨텐츠\n",
       "99   2020-04-09                         90000                      출장_016\n",
       "100  2020-04-10             [100000, 1000000]             [OO컨텐츠, 계약금_출판]\n",
       "101  2020-04-11                           NaN                         NaN\n",
       "102  2020-04-12                        100000                       OO컨텐츠\n",
       "103  2020-04-13                         90000                      출장_017\n",
       "104  2020-04-14  [90000, 52300, 62300, 41200]  [출장_018, 결제환급, AA카드, AA카드]\n",
       "105  2020-04-15                           NaN                         NaN"
      ]
     },
     "execution_count": 108,
     "metadata": {},
     "output_type": "execute_result"
    }
   ],
   "source": [
    "y2020.loc[95:105]"
   ]
  },
  {
   "cell_type": "markdown",
   "metadata": {},
   "source": [
    "## 정리 : 무입금일 제거"
   ]
  },
  {
   "cell_type": "code",
   "execution_count": 111,
   "metadata": {},
   "outputs": [
    {
     "data": {
      "text/html": [
       "<div>\n",
       "<style scoped>\n",
       "    .dataframe tbody tr th:only-of-type {\n",
       "        vertical-align: middle;\n",
       "    }\n",
       "\n",
       "    .dataframe tbody tr th {\n",
       "        vertical-align: top;\n",
       "    }\n",
       "\n",
       "    .dataframe thead th {\n",
       "        text-align: right;\n",
       "    }\n",
       "</style>\n",
       "<table border=\"1\" class=\"dataframe\">\n",
       "  <thead>\n",
       "    <tr style=\"text-align: right;\">\n",
       "      <th></th>\n",
       "      <th>거래일자</th>\n",
       "      <th>입금액</th>\n",
       "      <th>적요</th>\n",
       "    </tr>\n",
       "  </thead>\n",
       "  <tbody>\n",
       "    <tr>\n",
       "      <th>0</th>\n",
       "      <td>2020-01-01</td>\n",
       "      <td>[100000, 58300, 54200]</td>\n",
       "      <td>[OO컨텐츠, XX마트, BB카드]</td>\n",
       "    </tr>\n",
       "    <tr>\n",
       "      <th>1</th>\n",
       "      <td>2020-01-02</td>\n",
       "      <td>37900</td>\n",
       "      <td>EE카드</td>\n",
       "    </tr>\n",
       "    <tr>\n",
       "      <th>3</th>\n",
       "      <td>2020-01-04</td>\n",
       "      <td>100000</td>\n",
       "      <td>OO컨텐츠</td>\n",
       "    </tr>\n",
       "    <tr>\n",
       "      <th>5</th>\n",
       "      <td>2020-01-06</td>\n",
       "      <td>42600</td>\n",
       "      <td>결제환급</td>\n",
       "    </tr>\n",
       "    <tr>\n",
       "      <th>7</th>\n",
       "      <td>2020-01-08</td>\n",
       "      <td>[90000, 50500]</td>\n",
       "      <td>[출장_001, DD카드]</td>\n",
       "    </tr>\n",
       "    <tr>\n",
       "      <th>...</th>\n",
       "      <td>...</td>\n",
       "      <td>...</td>\n",
       "      <td>...</td>\n",
       "    </tr>\n",
       "    <tr>\n",
       "      <th>360</th>\n",
       "      <td>2020-12-26</td>\n",
       "      <td>[100000, 30000]</td>\n",
       "      <td>[OO컨텐츠, 이모이모부]</td>\n",
       "    </tr>\n",
       "    <tr>\n",
       "      <th>362</th>\n",
       "      <td>2020-12-28</td>\n",
       "      <td>59800</td>\n",
       "      <td>BB카드</td>\n",
       "    </tr>\n",
       "    <tr>\n",
       "      <th>363</th>\n",
       "      <td>2020-12-29</td>\n",
       "      <td>[56700, 56300]</td>\n",
       "      <td>[CC카드, BB카드]</td>\n",
       "    </tr>\n",
       "    <tr>\n",
       "      <th>364</th>\n",
       "      <td>2020-12-30</td>\n",
       "      <td>100000</td>\n",
       "      <td>OO컨텐츠</td>\n",
       "    </tr>\n",
       "    <tr>\n",
       "      <th>365</th>\n",
       "      <td>2020-12-31</td>\n",
       "      <td>40600</td>\n",
       "      <td>XX마트</td>\n",
       "    </tr>\n",
       "  </tbody>\n",
       "</table>\n",
       "<p>270 rows × 3 columns</p>\n",
       "</div>"
      ],
      "text/plain": [
       "           거래일자                     입금액                   적요\n",
       "0    2020-01-01  [100000, 58300, 54200]  [OO컨텐츠, XX마트, BB카드]\n",
       "1    2020-01-02                   37900                 EE카드\n",
       "3    2020-01-04                  100000                OO컨텐츠\n",
       "5    2020-01-06                   42600                 결제환급\n",
       "7    2020-01-08          [90000, 50500]       [출장_001, DD카드]\n",
       "..          ...                     ...                  ...\n",
       "360  2020-12-26         [100000, 30000]       [OO컨텐츠, 이모이모부]\n",
       "362  2020-12-28                   59800                 BB카드\n",
       "363  2020-12-29          [56700, 56300]         [CC카드, BB카드]\n",
       "364  2020-12-30                  100000                OO컨텐츠\n",
       "365  2020-12-31                   40600                 XX마트\n",
       "\n",
       "[270 rows x 3 columns]"
      ]
     },
     "execution_count": 111,
     "metadata": {},
     "output_type": "execute_result"
    }
   ],
   "source": [
    "y2020 = y2020.dropna()\n",
    "y2020"
   ]
  },
  {
   "cell_type": "code",
   "execution_count": 112,
   "metadata": {},
   "outputs": [
    {
     "data": {
      "text/html": [
       "<div>\n",
       "<style scoped>\n",
       "    .dataframe tbody tr th:only-of-type {\n",
       "        vertical-align: middle;\n",
       "    }\n",
       "\n",
       "    .dataframe tbody tr th {\n",
       "        vertical-align: top;\n",
       "    }\n",
       "\n",
       "    .dataframe thead th {\n",
       "        text-align: right;\n",
       "    }\n",
       "</style>\n",
       "<table border=\"1\" class=\"dataframe\">\n",
       "  <thead>\n",
       "    <tr style=\"text-align: right;\">\n",
       "      <th></th>\n",
       "      <th>거래일자</th>\n",
       "      <th>입금액</th>\n",
       "      <th>적요</th>\n",
       "    </tr>\n",
       "  </thead>\n",
       "  <tbody>\n",
       "    <tr>\n",
       "      <th>0</th>\n",
       "      <td>2020-01-01</td>\n",
       "      <td>100000</td>\n",
       "      <td>OO컨텐츠</td>\n",
       "    </tr>\n",
       "    <tr>\n",
       "      <th>1</th>\n",
       "      <td>2020-01-01</td>\n",
       "      <td>58300</td>\n",
       "      <td>XX마트</td>\n",
       "    </tr>\n",
       "    <tr>\n",
       "      <th>2</th>\n",
       "      <td>2020-01-01</td>\n",
       "      <td>54200</td>\n",
       "      <td>BB카드</td>\n",
       "    </tr>\n",
       "    <tr>\n",
       "      <th>3</th>\n",
       "      <td>2020-01-02</td>\n",
       "      <td>37900</td>\n",
       "      <td>EE카드</td>\n",
       "    </tr>\n",
       "    <tr>\n",
       "      <th>4</th>\n",
       "      <td>2020-01-04</td>\n",
       "      <td>100000</td>\n",
       "      <td>OO컨텐츠</td>\n",
       "    </tr>\n",
       "    <tr>\n",
       "      <th>...</th>\n",
       "      <td>...</td>\n",
       "      <td>...</td>\n",
       "      <td>...</td>\n",
       "    </tr>\n",
       "    <tr>\n",
       "      <th>421</th>\n",
       "      <td>2020-12-28</td>\n",
       "      <td>59800</td>\n",
       "      <td>BB카드</td>\n",
       "    </tr>\n",
       "    <tr>\n",
       "      <th>422</th>\n",
       "      <td>2020-12-29</td>\n",
       "      <td>56700</td>\n",
       "      <td>CC카드</td>\n",
       "    </tr>\n",
       "    <tr>\n",
       "      <th>423</th>\n",
       "      <td>2020-12-29</td>\n",
       "      <td>56300</td>\n",
       "      <td>BB카드</td>\n",
       "    </tr>\n",
       "    <tr>\n",
       "      <th>424</th>\n",
       "      <td>2020-12-30</td>\n",
       "      <td>100000</td>\n",
       "      <td>OO컨텐츠</td>\n",
       "    </tr>\n",
       "    <tr>\n",
       "      <th>425</th>\n",
       "      <td>2020-12-31</td>\n",
       "      <td>40600</td>\n",
       "      <td>XX마트</td>\n",
       "    </tr>\n",
       "  </tbody>\n",
       "</table>\n",
       "<p>426 rows × 3 columns</p>\n",
       "</div>"
      ],
      "text/plain": [
       "           거래일자     입금액     적요\n",
       "0    2020-01-01  100000  OO컨텐츠\n",
       "1    2020-01-01   58300   XX마트\n",
       "2    2020-01-01   54200   BB카드\n",
       "3    2020-01-02   37900   EE카드\n",
       "4    2020-01-04  100000  OO컨텐츠\n",
       "..          ...     ...    ...\n",
       "421  2020-12-28   59800   BB카드\n",
       "422  2020-12-29   56700   CC카드\n",
       "423  2020-12-29   56300   BB카드\n",
       "424  2020-12-30  100000  OO컨텐츠\n",
       "425  2020-12-31   40600   XX마트\n",
       "\n",
       "[426 rows x 3 columns]"
      ]
     },
     "execution_count": 112,
     "metadata": {},
     "output_type": "execute_result"
    }
   ],
   "source": [
    "y2020 = pd.concat([y2020[[\"거래일자\", \"입금액\"]].explode(\"입금액\"), y2020[\"적요\"].explode()], axis=1).reset_index(drop=True)\n",
    "y2020"
   ]
  },
  {
   "cell_type": "code",
   "execution_count": 121,
   "metadata": {},
   "outputs": [
    {
     "name": "stdout",
     "output_type": "stream",
     "text": [
      "총 입금액 = 87,112,099\n"
     ]
    }
   ],
   "source": [
    "y2020[\"입금액\"] = y2020[\"입금액\"].astype(int)\n",
    "print(\"총 입금액 =\", format(y2020['입금액'].sum(), ','))"
   ]
  },
  {
   "cell_type": "code",
   "execution_count": 122,
   "metadata": {},
   "outputs": [],
   "source": [
    "y2020.to_excel(\"58_income.xlsx\", index=False)"
   ]
  },
  {
   "cell_type": "markdown",
   "metadata": {},
   "source": [
    "# Extract Income from Company"
   ]
  },
  {
   "cell_type": "code",
   "execution_count": 4,
   "metadata": {},
   "outputs": [],
   "source": [
    "y2020 = pd.read_excel(\"58_income.xlsx\")"
   ]
  },
  {
   "cell_type": "code",
   "execution_count": 5,
   "metadata": {},
   "outputs": [
    {
     "data": {
      "text/html": [
       "<div>\n",
       "<style scoped>\n",
       "    .dataframe tbody tr th:only-of-type {\n",
       "        vertical-align: middle;\n",
       "    }\n",
       "\n",
       "    .dataframe tbody tr th {\n",
       "        vertical-align: top;\n",
       "    }\n",
       "\n",
       "    .dataframe thead th {\n",
       "        text-align: right;\n",
       "    }\n",
       "</style>\n",
       "<table border=\"1\" class=\"dataframe\">\n",
       "  <thead>\n",
       "    <tr style=\"text-align: right;\">\n",
       "      <th></th>\n",
       "      <th>거래일자</th>\n",
       "      <th>입금액</th>\n",
       "      <th>적요</th>\n",
       "    </tr>\n",
       "  </thead>\n",
       "  <tbody>\n",
       "    <tr>\n",
       "      <th>0</th>\n",
       "      <td>2020-01-01</td>\n",
       "      <td>100000</td>\n",
       "      <td>OO컨텐츠</td>\n",
       "    </tr>\n",
       "    <tr>\n",
       "      <th>1</th>\n",
       "      <td>2020-01-01</td>\n",
       "      <td>58300</td>\n",
       "      <td>XX마트</td>\n",
       "    </tr>\n",
       "    <tr>\n",
       "      <th>2</th>\n",
       "      <td>2020-01-01</td>\n",
       "      <td>54200</td>\n",
       "      <td>BB카드</td>\n",
       "    </tr>\n",
       "    <tr>\n",
       "      <th>3</th>\n",
       "      <td>2020-01-02</td>\n",
       "      <td>37900</td>\n",
       "      <td>EE카드</td>\n",
       "    </tr>\n",
       "    <tr>\n",
       "      <th>4</th>\n",
       "      <td>2020-01-04</td>\n",
       "      <td>100000</td>\n",
       "      <td>OO컨텐츠</td>\n",
       "    </tr>\n",
       "    <tr>\n",
       "      <th>5</th>\n",
       "      <td>2020-01-06</td>\n",
       "      <td>42600</td>\n",
       "      <td>결제환급</td>\n",
       "    </tr>\n",
       "    <tr>\n",
       "      <th>6</th>\n",
       "      <td>2020-01-08</td>\n",
       "      <td>90000</td>\n",
       "      <td>출장_001</td>\n",
       "    </tr>\n",
       "    <tr>\n",
       "      <th>7</th>\n",
       "      <td>2020-01-08</td>\n",
       "      <td>50500</td>\n",
       "      <td>DD카드</td>\n",
       "    </tr>\n",
       "    <tr>\n",
       "      <th>8</th>\n",
       "      <td>2020-01-10</td>\n",
       "      <td>90000</td>\n",
       "      <td>출장_002</td>\n",
       "    </tr>\n",
       "    <tr>\n",
       "      <th>9</th>\n",
       "      <td>2020-01-10</td>\n",
       "      <td>57900</td>\n",
       "      <td>BB카드</td>\n",
       "    </tr>\n",
       "    <tr>\n",
       "      <th>10</th>\n",
       "      <td>2020-01-13</td>\n",
       "      <td>90000</td>\n",
       "      <td>출장_003</td>\n",
       "    </tr>\n",
       "    <tr>\n",
       "      <th>11</th>\n",
       "      <td>2020-01-13</td>\n",
       "      <td>57600</td>\n",
       "      <td>EE카드</td>\n",
       "    </tr>\n",
       "    <tr>\n",
       "      <th>12</th>\n",
       "      <td>2020-01-15</td>\n",
       "      <td>40200</td>\n",
       "      <td>AA카드</td>\n",
       "    </tr>\n",
       "    <tr>\n",
       "      <th>13</th>\n",
       "      <td>2020-01-16</td>\n",
       "      <td>90000</td>\n",
       "      <td>출장_004</td>\n",
       "    </tr>\n",
       "    <tr>\n",
       "      <th>14</th>\n",
       "      <td>2020-01-17</td>\n",
       "      <td>90000</td>\n",
       "      <td>출장_005</td>\n",
       "    </tr>\n",
       "    <tr>\n",
       "      <th>15</th>\n",
       "      <td>2020-01-18</td>\n",
       "      <td>100000</td>\n",
       "      <td>OO컨텐츠</td>\n",
       "    </tr>\n",
       "    <tr>\n",
       "      <th>16</th>\n",
       "      <td>2020-01-18</td>\n",
       "      <td>50000</td>\n",
       "      <td>이웃어른</td>\n",
       "    </tr>\n",
       "    <tr>\n",
       "      <th>17</th>\n",
       "      <td>2020-01-21</td>\n",
       "      <td>2111400</td>\n",
       "      <td>우리회사_01</td>\n",
       "    </tr>\n",
       "    <tr>\n",
       "      <th>18</th>\n",
       "      <td>2020-01-21</td>\n",
       "      <td>90000</td>\n",
       "      <td>출장_006</td>\n",
       "    </tr>\n",
       "    <tr>\n",
       "      <th>19</th>\n",
       "      <td>2020-01-22</td>\n",
       "      <td>55500</td>\n",
       "      <td>결제환급</td>\n",
       "    </tr>\n",
       "  </tbody>\n",
       "</table>\n",
       "</div>"
      ],
      "text/plain": [
       "          거래일자      입금액       적요\n",
       "0   2020-01-01   100000    OO컨텐츠\n",
       "1   2020-01-01    58300     XX마트\n",
       "2   2020-01-01    54200     BB카드\n",
       "3   2020-01-02    37900     EE카드\n",
       "4   2020-01-04   100000    OO컨텐츠\n",
       "5   2020-01-06    42600     결제환급\n",
       "6   2020-01-08    90000   출장_001\n",
       "7   2020-01-08    50500     DD카드\n",
       "8   2020-01-10    90000   출장_002\n",
       "9   2020-01-10    57900     BB카드\n",
       "10  2020-01-13    90000   출장_003\n",
       "11  2020-01-13    57600     EE카드\n",
       "12  2020-01-15    40200     AA카드\n",
       "13  2020-01-16    90000   출장_004\n",
       "14  2020-01-17    90000   출장_005\n",
       "15  2020-01-18   100000    OO컨텐츠\n",
       "16  2020-01-18    50000     이웃어른\n",
       "17  2020-01-21  2111400  우리회사_01\n",
       "18  2020-01-21    90000   출장_006\n",
       "19  2020-01-22    55500     결제환급"
      ]
     },
     "execution_count": 5,
     "metadata": {},
     "output_type": "execute_result"
    }
   ],
   "source": [
    "y2020.head(20)"
   ]
  },
  {
   "cell_type": "code",
   "execution_count": 6,
   "metadata": {},
   "outputs": [
    {
     "data": {
      "text/plain": [
       "87112099"
      ]
     },
     "execution_count": 6,
     "metadata": {},
     "output_type": "execute_result"
    }
   ],
   "source": [
    "y2020[\"입금액\"].sum()"
   ]
  },
  {
   "cell_type": "code",
   "execution_count": 7,
   "metadata": {},
   "outputs": [
    {
     "data": {
      "text/plain": [
       "'87,112,099'"
      ]
     },
     "execution_count": 7,
     "metadata": {},
     "output_type": "execute_result"
    }
   ],
   "source": [
    "format(y2020[\"입금액\"].sum(), \",\")"
   ]
  },
  {
   "cell_type": "code",
   "execution_count": 8,
   "metadata": {},
   "outputs": [
    {
     "name": "stderr",
     "output_type": "stream",
     "text": [
      "/opt/conda/lib/python3.7/site-packages/ipykernel_launcher.py:2: SettingWithCopyWarning: \n",
      "A value is trying to be set on a copy of a slice from a DataFrame.\n",
      "Try using .loc[row_indexer,col_indexer] = value instead\n",
      "\n",
      "See the caveats in the documentation: https://pandas.pydata.org/pandas-docs/stable/user_guide/indexing.html#returning-a-view-versus-a-copy\n",
      "  \n"
     ]
    },
    {
     "data": {
      "text/html": [
       "<div>\n",
       "<style scoped>\n",
       "    .dataframe tbody tr th:only-of-type {\n",
       "        vertical-align: middle;\n",
       "    }\n",
       "\n",
       "    .dataframe tbody tr th {\n",
       "        vertical-align: top;\n",
       "    }\n",
       "\n",
       "    .dataframe thead th {\n",
       "        text-align: right;\n",
       "    }\n",
       "</style>\n",
       "<table border=\"1\" class=\"dataframe\">\n",
       "  <thead>\n",
       "    <tr style=\"text-align: right;\">\n",
       "      <th></th>\n",
       "      <th>거래일자</th>\n",
       "      <th>입금액</th>\n",
       "      <th>적요</th>\n",
       "    </tr>\n",
       "  </thead>\n",
       "  <tbody>\n",
       "    <tr>\n",
       "      <th>0</th>\n",
       "      <td>2020-01-01</td>\n",
       "      <td>100000</td>\n",
       "      <td>OO컨텐츠</td>\n",
       "    </tr>\n",
       "    <tr>\n",
       "      <th>4</th>\n",
       "      <td>2020-01-04</td>\n",
       "      <td>100000</td>\n",
       "      <td>OO컨텐츠</td>\n",
       "    </tr>\n",
       "    <tr>\n",
       "      <th>6</th>\n",
       "      <td>2020-01-08</td>\n",
       "      <td>90000</td>\n",
       "      <td>출장_001</td>\n",
       "    </tr>\n",
       "    <tr>\n",
       "      <th>8</th>\n",
       "      <td>2020-01-10</td>\n",
       "      <td>90000</td>\n",
       "      <td>출장_002</td>\n",
       "    </tr>\n",
       "    <tr>\n",
       "      <th>10</th>\n",
       "      <td>2020-01-13</td>\n",
       "      <td>90000</td>\n",
       "      <td>출장_003</td>\n",
       "    </tr>\n",
       "  </tbody>\n",
       "</table>\n",
       "</div>"
      ],
      "text/plain": [
       "          거래일자     입금액      적요\n",
       "0   2020-01-01  100000   OO컨텐츠\n",
       "4   2020-01-04  100000   OO컨텐츠\n",
       "6   2020-01-08   90000  출장_001\n",
       "8   2020-01-10   90000  출장_002\n",
       "10  2020-01-13   90000  출장_003"
      ]
     },
     "execution_count": 8,
     "metadata": {},
     "output_type": "execute_result"
    }
   ],
   "source": [
    "y2020_company = y2020.loc[y2020[\"적요\"].str.contains(\"우리회사|출장|성과급|컨텐츠|출판|출연|저작권\", regex=True)]\n",
    "y2020_company[\"입금액\"] = y2020_company[\"입금액\"].astype(int)\n",
    "y2020_company.head()"
   ]
  },
  {
   "cell_type": "code",
   "execution_count": 9,
   "metadata": {},
   "outputs": [
    {
     "data": {
      "text/plain": [
       "'76,530,399'"
      ]
     },
     "execution_count": 9,
     "metadata": {},
     "output_type": "execute_result"
    }
   ],
   "source": [
    "# 총 소득\n",
    "format(y2020_company[\"입금액\"].sum(), \",\")"
   ]
  },
  {
   "cell_type": "code",
   "execution_count": 10,
   "metadata": {},
   "outputs": [],
   "source": [
    "### 1. 회사\n",
    "# salary\n",
    "index_salary = y2020_company.loc[y2020_company[\"적요\"].str.contains(\"우리회사\", regex=False)].index\n",
    "\n",
    "# business trip\n",
    "index_biztrip = y2020_company.loc[y2020_company[\"적요\"].str.contains(\"출장\", regex=False)].index\n",
    "\n",
    "# success\n",
    "index_success = y2020_company.loc[y2020_company[\"적요\"].str.contains(\"성과급\", regex=False)].index\n",
    "\n",
    "### 2. 투잡\n",
    "# contents\n",
    "index_contents = y2020_company.loc[y2020_company[\"적요\"].str.contains(\"컨텐츠\", regex=False)].index\n",
    "\n",
    "# 2차 창작물\n",
    "index_2nd = y2020_company.loc[y2020_company[\"적요\"].str.contains(\"출판|출연|저작권\", regex=True)].index"
   ]
  },
  {
   "cell_type": "code",
   "execution_count": 11,
   "metadata": {},
   "outputs": [
    {
     "name": "stderr",
     "output_type": "stream",
     "text": [
      "/opt/conda/lib/python3.7/site-packages/ipykernel_launcher.py:1: SettingWithCopyWarning: \n",
      "A value is trying to be set on a copy of a slice from a DataFrame.\n",
      "Try using .loc[row_indexer,col_indexer] = value instead\n",
      "\n",
      "See the caveats in the documentation: https://pandas.pydata.org/pandas-docs/stable/user_guide/indexing.html#returning-a-view-versus-a-copy\n",
      "  \"\"\"Entry point for launching an IPython kernel.\n",
      "/opt/conda/lib/python3.7/site-packages/pandas/core/indexing.py:1719: SettingWithCopyWarning: \n",
      "A value is trying to be set on a copy of a slice from a DataFrame.\n",
      "Try using .loc[row_indexer,col_indexer] = value instead\n",
      "\n",
      "See the caveats in the documentation: https://pandas.pydata.org/pandas-docs/stable/user_guide/indexing.html#returning-a-view-versus-a-copy\n",
      "  self._setitem_single_column(loc, value, pi)\n"
     ]
    }
   ],
   "source": [
    "y2020_company[\"type\"] = np.nan\n",
    "\n",
    "y2020_company.loc[index_salary, \"type\"] = \"기본급\"\n",
    "y2020_company.loc[index_biztrip, \"type\"] = \"출장비\"\n",
    "y2020_company.loc[index_success, \"type\"] = \"성과급\"\n",
    "\n",
    "y2020_company.loc[index_contents, \"type\"] = \"컨텐츠\"\n",
    "y2020_company.loc[index_2nd, \"type\"] = \"2차\""
   ]
  },
  {
   "cell_type": "code",
   "execution_count": 12,
   "metadata": {},
   "outputs": [
    {
     "data": {
      "text/html": [
       "<div>\n",
       "<style scoped>\n",
       "    .dataframe tbody tr th:only-of-type {\n",
       "        vertical-align: middle;\n",
       "    }\n",
       "\n",
       "    .dataframe tbody tr th {\n",
       "        vertical-align: top;\n",
       "    }\n",
       "\n",
       "    .dataframe thead th {\n",
       "        text-align: right;\n",
       "    }\n",
       "</style>\n",
       "<table border=\"1\" class=\"dataframe\">\n",
       "  <thead>\n",
       "    <tr style=\"text-align: right;\">\n",
       "      <th></th>\n",
       "      <th>입금액</th>\n",
       "    </tr>\n",
       "    <tr>\n",
       "      <th>type</th>\n",
       "      <th></th>\n",
       "    </tr>\n",
       "  </thead>\n",
       "  <tbody>\n",
       "    <tr>\n",
       "      <th>2차</th>\n",
       "      <td>3000000</td>\n",
       "    </tr>\n",
       "    <tr>\n",
       "      <th>기본급</th>\n",
       "      <td>25070399</td>\n",
       "    </tr>\n",
       "    <tr>\n",
       "      <th>성과급</th>\n",
       "      <td>30000000</td>\n",
       "    </tr>\n",
       "    <tr>\n",
       "      <th>출장비</th>\n",
       "      <td>4260000</td>\n",
       "    </tr>\n",
       "    <tr>\n",
       "      <th>컨텐츠</th>\n",
       "      <td>14200000</td>\n",
       "    </tr>\n",
       "  </tbody>\n",
       "</table>\n",
       "</div>"
      ],
      "text/plain": [
       "           입금액\n",
       "type          \n",
       "2차     3000000\n",
       "기본급   25070399\n",
       "성과급   30000000\n",
       "출장비    4260000\n",
       "컨텐츠   14200000"
      ]
     },
     "execution_count": 12,
     "metadata": {},
     "output_type": "execute_result"
    }
   ],
   "source": [
    "y2020_g = y2020_company.groupby(\"type\").sum()\n",
    "y2020_g"
   ]
  },
  {
   "cell_type": "code",
   "execution_count": 13,
   "metadata": {},
   "outputs": [
    {
     "data": {
      "text/html": [
       "<div>\n",
       "<style scoped>\n",
       "    .dataframe tbody tr th:only-of-type {\n",
       "        vertical-align: middle;\n",
       "    }\n",
       "\n",
       "    .dataframe tbody tr th {\n",
       "        vertical-align: top;\n",
       "    }\n",
       "\n",
       "    .dataframe thead th {\n",
       "        text-align: right;\n",
       "    }\n",
       "</style>\n",
       "<table border=\"1\" class=\"dataframe\">\n",
       "  <thead>\n",
       "    <tr style=\"text-align: right;\">\n",
       "      <th></th>\n",
       "      <th>입금액</th>\n",
       "    </tr>\n",
       "    <tr>\n",
       "      <th>type</th>\n",
       "      <th></th>\n",
       "    </tr>\n",
       "  </thead>\n",
       "  <tbody>\n",
       "    <tr>\n",
       "      <th>기본급</th>\n",
       "      <td>25070399</td>\n",
       "    </tr>\n",
       "    <tr>\n",
       "      <th>출장비</th>\n",
       "      <td>4260000</td>\n",
       "    </tr>\n",
       "    <tr>\n",
       "      <th>성과급</th>\n",
       "      <td>30000000</td>\n",
       "    </tr>\n",
       "  </tbody>\n",
       "</table>\n",
       "</div>"
      ],
      "text/plain": [
       "           입금액\n",
       "type          \n",
       "기본급   25070399\n",
       "출장비    4260000\n",
       "성과급   30000000"
      ]
     },
     "execution_count": 13,
     "metadata": {},
     "output_type": "execute_result"
    }
   ],
   "source": [
    "y2020_g.loc[[\"기본급\", \"출장비\", \"성과급\"]]"
   ]
  },
  {
   "cell_type": "code",
   "execution_count": 14,
   "metadata": {},
   "outputs": [
    {
     "data": {
      "text/plain": [
       "Index(['2차', '기본급', '성과급', '출장비', '컨텐츠'], dtype='object', name='type')"
      ]
     },
     "execution_count": 14,
     "metadata": {},
     "output_type": "execute_result"
    }
   ],
   "source": [
    "y2020_g.index"
   ]
  },
  {
   "cell_type": "code",
   "execution_count": 15,
   "metadata": {},
   "outputs": [],
   "source": [
    "import seaborn as sns\n",
    "\n",
    "sns.set_style(\"white\")\n",
    "sns.set_context(\"talk\")\n",
    "plt.rcParams['font.family']='NanumGothic'\n",
    "plt.rcParams['axes.unicode_minus'] = False"
   ]
  },
  {
   "cell_type": "code",
   "execution_count": 16,
   "metadata": {},
   "outputs": [
    {
     "data": {
      "image/png": "[encoded data removed]",
      "text/plain": [
       "<Figure size 720x360 with 2 Axes>"
      ]
     },
     "metadata": {},
     "output_type": "display_data"
    }
   ],
   "source": [
    "fig, axs = plt.subplots(ncols=2, figsize=(10, 5), gridspec_kw={\"width_ratios\":[3,2], \"wspace\":0}, sharey=True)\n",
    "\n",
    "def plot_income(df, idx, ax, palette=\"tab10\", title=None):\n",
    "    sns.barplot(x=idx, y=\"입금액\", data=df.loc[idx], palette=palette, ax=ax, zorder=2)\n",
    "    ax.set_xlabel(None)\n",
    "    ax.set_ylabel(None)\n",
    "\n",
    "    yticks = ax.get_yticks()\n",
    "    ax.set_yticks(yticks)\n",
    "    ax.set_yticklabels([])\n",
    "\n",
    "    ax.set_facecolor(\"0.9\")\n",
    "    [ax.spines[k].set_visible(False) for k in [\"left\", \"top\", \"right\"]]\n",
    "\n",
    "    ax.tick_params(axis=\"both\", length=0)\n",
    "    [ax.axhline(y, zorder=1, c=\"lightgray\") for y in yticks];\n",
    "\n",
    "    for i, p in enumerate(ax.patches):\n",
    "        h = p.get_height()\n",
    "        ax.text(i, h+2e6, format(int(h), \",\"), ha=\"center\")\n",
    "        \n",
    "    ax.set_title(f\"{title} ({format(int(df.loc[idx].sum()), ',')})\")\n",
    "    return ax\n",
    "\n",
    "\n",
    "idx_company = [\"기본급\", \"출장비\", \"성과급\"]\n",
    "idx_2job = [\"컨텐츠\", \"2차\"]\n",
    "\n",
    "axs[0] = plot_income(y2020_g, idx_company, axs[0], palette=\"Blues_r\", title=\"회사\")\n",
    "axs[1] = plot_income(y2020_g, idx_2job, axs[1], palette=\"Reds_r\", title=\"투잡\")\n",
    "axs[1].spines[\"left\"].set_visible(True)\n",
    "axs[1].spines[\"left\"].set_color(\"w\")\n",
    "\n",
    "fig.suptitle(f\"2020년 총 소득: {format(int(y2020_g.sum()), ',')}원\")\n",
    "fig.tight_layout()\n",
    "fig.savefig(\"57_income.png\")"
   ]
  },
  {
   "cell_type": "code",
   "execution_count": null,
   "metadata": {},
   "outputs": [],
   "source": []
  }
 ],
 "metadata": {
  "kernelspec": {
   "display_name": "Python 3",
   "language": "python",
   "name": "python3"
  },
  "language_info": {
   "codemirror_mode": {
    "name": "ipython",
    "version": 3
   },
   "file_extension": ".py",
   "mimetype": "text/x-python",
   "name": "python",
   "nbconvert_exporter": "python",
   "pygments_lexer": "ipython3",
   "version": "3.7.4"
  },
  "toc-autonumbering": true
 },
 "nbformat": 4,
 "nbformat_minor": 4
}
