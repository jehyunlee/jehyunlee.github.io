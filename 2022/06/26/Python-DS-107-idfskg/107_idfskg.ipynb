{
 "cells": [
  {
   "cell_type": "code",
   "execution_count": null,
   "metadata": {},
   "outputs": [],
   "source": [
    "%matplotlib inline\n",
    "import numpy as np\n",
    "import pandas as pd\n",
    "\n",
    "# AI : https://en.wikipedia.org/wiki/Artificial_intelligence\n",
    "# Stages : https://www.ediweekly.com/the-three-different-types-of-artificial-intelligence-ani-agi-and-asi/\n",
    "# Goals : https://en.wikipedia.org/wiki/Artificial_intelligence\n",
    "# Tools : https://en.wikipedia.org/wiki/Artificial_intelligence\n"
   ]
  },
  {
   "cell_type": "code",
   "execution_count": 11,
   "metadata": {},
   "outputs": [
    {
     "name": "stdout",
     "output_type": "stream",
     "text": [
      "xs = [0.  0.3 0.6 0.9 1.2 1.5 1.8 2.1 2.4 2.7 3. ]\n",
      "ys = [ 1.   1.9  2.8  3.7  4.6  5.5  6.4  7.3  8.2  9.1 10. ]\n",
      "angle = 1.25 radian\n",
      "angle = 71.57 degree\n"
     ]
    },
    {
     "data": {
      "image/png": "[encoded data removed]",
      "text/plain": [
       "<Figure size 432x288 with 1 Axes>"
      ]
     },
     "metadata": {
      "needs_background": "light"
     },
     "output_type": "display_data"
    }
   ],
   "source": [
    "import numpy as np\n",
    "\n",
    "a = 3\n",
    "b = 1\n",
    "\n",
    "xs = np.linspace(0, 3, 11)\n",
    "def f(x):\n",
    "    return a*x + b\n",
    "ys = f(xs)\n",
    "\n",
    "print(f\"xs = {xs}\")\n",
    "print(f\"ys = {ys}\")\n",
    "plt.plot(xs, ys, \"o-\")\n",
    "\n",
    "angle_rad = np.arctan2((ys[-1]-ys[0]), (xs[-1]-xs[0]))\n",
    "angle_deg = np.rad2deg(angle_rad)\n",
    "\n",
    "print(f\"angle = {angle_rad:.2f} radian\")\n",
    "print(f\"angle = {angle_deg:.2f} degree\")"
   ]
  },
  {
   "cell_type": "code",
   "execution_count": null,
   "metadata": {},
   "outputs": [],
   "source": []
  }
 ],
 "metadata": {
  "kernelspec": {
   "display_name": "Python 3",
   "language": "python",
   "name": "python3"
  },
  "language_info": {
   "codemirror_mode": {
    "name": "ipython",
    "version": 3
   },
   "file_extension": ".py",
   "mimetype": "text/x-python",
   "name": "python",
   "nbconvert_exporter": "python",
   "pygments_lexer": "ipython3",
   "version": "3.7.4"
  }
 },
 "nbformat": 4,
 "nbformat_minor": 4
}
